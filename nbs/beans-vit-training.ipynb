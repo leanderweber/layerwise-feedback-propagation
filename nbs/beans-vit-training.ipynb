{
 "cells": [
  {
   "cell_type": "markdown",
   "metadata": {},
   "source": [
    "This Notebook trains a simple ViT on toy data using LFP and Gradient Descent"
   ]
  },
  {
   "cell_type": "markdown",
   "metadata": {},
   "source": [
    "### Imports"
   ]
  },
  {
   "cell_type": "code",
   "execution_count": 1,
   "metadata": {},
   "outputs": [
    {
     "name": "stderr",
     "output_type": "stream",
     "text": [
      "/home/lweber/.cache/pypoetry/virtualenvs/lfprop-KukTaqIE-py3.11/lib/python3.11/site-packages/tqdm/auto.py:21: TqdmWarning: IProgress not found. Please update jupyter and ipywidgets. See https://ipywidgets.readthedocs.io/en/stable/user_install.html\n",
      "  from .autonotebook import tqdm as notebook_tqdm\n"
     ]
    }
   ],
   "source": [
    "import os\n",
    "from PIL import Image\n",
    "import matplotlib.pyplot as plt\n",
    "\n",
    "import numpy as np\n",
    "import torch\n",
    "import torch.nn as tnn\n",
    "import torcheval.metrics\n",
    "import torchvision.datasets as tvisiondata\n",
    "import torchvision.transforms as T\n",
    "from tqdm import tqdm\n",
    "\n",
    "import datasets\n",
    "import transformers\n",
    "import time\n",
    "import random\n",
    "\n",
    "import warnings\n",
    "\n",
    "from lxt import rules as lrules\n",
    "from lxt.modules import INIT_MODULE_MAPPING\n",
    "\n",
    "from zennit import types as ztypes\n",
    "\n",
    "from lfprop.propagation import (\n",
    "    propagator_vit as propagator,\n",
    ")  # LFP propagator for ViT\n",
    "from lfprop.rewards import reward_functions as rewards  # Reward Functions\n",
    "from lfprop.rewards import rewards as loss_fns"
   ]
  },
  {
   "cell_type": "markdown",
   "metadata": {},
   "source": [
    "### Parameters"
   ]
  },
  {
   "cell_type": "code",
   "execution_count": 2,
   "metadata": {},
   "outputs": [],
   "source": [
    "savepath = \"/media/lweber/f3ed2aae-a7bf-4a55-b50d-ea8fb534f1f51/reward-backprop/resubmission-1-experiments/beans-vit-training-camera-ready\"\n",
    "dataset_path = \"/media/lweber/f3ed2aae-a7bf-4a55-b50d-ea8fb534f1f51/Datasets/huggingface/beans\"\n",
    "# TODO double check model pretraining\n",
    "model_path = 'google/vit-base-patch16-224-in21k'\n",
    "os.makedirs(savepath, exist_ok=True)\n",
    "\n",
    "batch_size = 32\n",
    "n_channels = 1\n",
    "n_outputs = 10\n",
    "\n",
    "lr = 2e-4\n",
    "momentum = 0.9\n",
    "epochs = 20\n",
    "retrain = True\n",
    "\n",
    "seeds = [7240]#, 5110, 5628]\n",
    "\n",
    "device = torch.device(\"cuda\" if torch.cuda.is_available() else \"cpu\")"
   ]
  },
  {
   "cell_type": "markdown",
   "metadata": {},
   "source": [
    "### Load Dataset"
   ]
  },
  {
   "cell_type": "code",
   "execution_count": 4,
   "metadata": {},
   "outputs": [
    {
     "data": {
      "text/plain": [
       "DatasetDict({\n",
       "    train: Dataset({\n",
       "        features: ['image', 'label'],\n",
       "        num_rows: 7169\n",
       "    })\n",
       "    test: Dataset({\n",
       "        features: ['image', 'label'],\n",
       "        num_rows: 1020\n",
       "    })\n",
       "})"
      ]
     },
     "execution_count": 4,
     "metadata": {},
     "output_type": "execute_result"
    }
   ],
   "source": [
    "ds = datasets.load_dataset(\"nkirschi/oxford-flowers\")#'nateraw/beans')\n",
    "ds2 = datasets.load_dataset(\"nateraw/beans\")#'nateraw/beans')\n",
    "ds"
   ]
  },
  {
   "cell_type": "code",
   "execution_count": 5,
   "metadata": {},
   "outputs": [
    {
     "data": {
      "text/plain": [
       "DatasetDict({\n",
       "    train: Dataset({\n",
       "        features: ['image_file_path', 'labels'],\n",
       "        num_rows: 1034\n",
       "    })\n",
       "    validation: Dataset({\n",
       "        features: ['image_file_path', 'labels'],\n",
       "        num_rows: 133\n",
       "    })\n",
       "    test: Dataset({\n",
       "        features: ['image_file_path', 'labels'],\n",
       "        num_rows: 128\n",
       "    })\n",
       "})"
      ]
     },
     "execution_count": 5,
     "metadata": {},
     "output_type": "execute_result"
    }
   ],
   "source": [
    "ds2"
   ]
  },
  {
   "cell_type": "code",
   "execution_count": null,
   "metadata": {},
   "outputs": [
    {
     "name": "stdout",
     "output_type": "stream",
     "text": [
      "<PIL.JpegImagePlugin.JpegImageFile image mode=RGB size=500x696 at 0x7FC0B00FD810>\n"
     ]
    },
    {
     "ename": "AttributeError",
     "evalue": "read",
     "output_type": "error",
     "traceback": [
      "\u001b[31m---------------------------------------------------------------------------\u001b[39m",
      "\u001b[31mAttributeError\u001b[39m                            Traceback (most recent call last)",
      "\u001b[36mCell\u001b[39m\u001b[36m \u001b[39m\u001b[32mIn[9]\u001b[39m\u001b[32m, line 3\u001b[39m\n\u001b[32m      1\u001b[39m imfile = ds[\u001b[33m'\u001b[39m\u001b[33mtrain\u001b[39m\u001b[33m'\u001b[39m][\u001b[32m400\u001b[39m][\u001b[33m'\u001b[39m\u001b[33mimage\u001b[39m\u001b[33m'\u001b[39m]\n\u001b[32m      2\u001b[39m \u001b[38;5;28mprint\u001b[39m(imfile)\n\u001b[32m----> \u001b[39m\u001b[32m3\u001b[39m image = \u001b[43mImage\u001b[49m\u001b[43m.\u001b[49m\u001b[43mopen\u001b[49m\u001b[43m(\u001b[49m\u001b[43mimfile\u001b[49m\u001b[43m)\u001b[49m\n\u001b[32m      4\u001b[39m plt.imshow(image)\n",
      "\u001b[36mFile \u001b[39m\u001b[32m~/.cache/pypoetry/virtualenvs/lfprop-KukTaqIE-py3.11/lib/python3.11/site-packages/PIL/Image.py:3476\u001b[39m, in \u001b[36mopen\u001b[39m\u001b[34m(fp, mode, formats)\u001b[39m\n\u001b[32m   3473\u001b[39m     fp = io.BytesIO(fp.read())\n\u001b[32m   3474\u001b[39m     exclusive_fp = \u001b[38;5;28;01mTrue\u001b[39;00m\n\u001b[32m-> \u001b[39m\u001b[32m3476\u001b[39m prefix = \u001b[43mfp\u001b[49m\u001b[43m.\u001b[49m\u001b[43mread\u001b[49m(\u001b[32m16\u001b[39m)\n\u001b[32m   3478\u001b[39m preinit()\n\u001b[32m   3480\u001b[39m warning_messages: \u001b[38;5;28mlist\u001b[39m[\u001b[38;5;28mstr\u001b[39m] = []\n",
      "\u001b[36mFile \u001b[39m\u001b[32m~/.cache/pypoetry/virtualenvs/lfprop-KukTaqIE-py3.11/lib/python3.11/site-packages/PIL/JpegImagePlugin.py:399\u001b[39m, in \u001b[36mJpegImageFile.__getattr__\u001b[39m\u001b[34m(self, name)\u001b[39m\n\u001b[32m    397\u001b[39m     deprecate(name, \u001b[32m12\u001b[39m)\n\u001b[32m    398\u001b[39m     \u001b[38;5;28;01mreturn\u001b[39;00m \u001b[38;5;28mgetattr\u001b[39m(\u001b[38;5;28mself\u001b[39m, \u001b[33m\"\u001b[39m\u001b[33m_\u001b[39m\u001b[33m\"\u001b[39m + name)\n\u001b[32m--> \u001b[39m\u001b[32m399\u001b[39m \u001b[38;5;28;01mraise\u001b[39;00m \u001b[38;5;167;01mAttributeError\u001b[39;00m(name)\n",
      "\u001b[31mAttributeError\u001b[39m: read"
     ]
    }
   ],
   "source": [
    "imfile = ds['train'][400]['image']\n",
    "image = Image.open(imfile)\n",
    "plt.imshow(image)"
   ]
  },
  {
   "cell_type": "code",
   "execution_count": null,
   "metadata": {},
   "outputs": [
    {
     "name": "stdout",
     "output_type": "stream",
     "text": [
      "torch.Size([3, 224, 224])\n"
     ]
    },
    {
     "ename": "",
     "evalue": "",
     "output_type": "error",
     "traceback": [
      "\u001b[1;31mnotebook controller is DISPOSED. \n",
      "\u001b[1;31mView Jupyter <a href='command:jupyter.viewOutput'>log</a> for further details."
     ]
    }
   ],
   "source": [
    "feature_extractor = transformers.ViTImageProcessor.from_pretrained(model_path)\n",
    "feature_extractor\n",
    "\n",
    "def transform(example_batch):\n",
    "    # Take a list of PIL images and turn them to pixel values\n",
    "    inputs = feature_extractor([Image.open(x) for x in example_batch['image_file_path']], return_tensors='pt')\n",
    "\n",
    "    inputs['labels'] = example_batch['labels']\n",
    "    return inputs\n",
    "\n",
    "prepared_ds = ds.with_transform(transform)\n",
    "prepared_ds['test'][0]\n",
    "print(prepared_ds['test'][0][\"pixel_values\"].shape)"
   ]
  },
  {
   "cell_type": "code",
   "execution_count": null,
   "metadata": {},
   "outputs": [
    {
     "ename": "",
     "evalue": "",
     "output_type": "error",
     "traceback": [
      "\u001b[1;31mnotebook controller is DISPOSED. \n",
      "\u001b[1;31mView Jupyter <a href='command:jupyter.viewOutput'>log</a> for further details."
     ]
    }
   ],
   "source": [
    "def collate_fn(batch):\n",
    "    return {\n",
    "        'pixel_values': torch.stack([x['pixel_values'] for x in batch]),\n",
    "        'labels': torch.tensor([x['labels'] for x in batch])\n",
    "    }\n",
    "    \n",
    "training_loader = torch.utils.data.DataLoader(prepared_ds[\"train\"], shuffle=True, collate_fn=collate_fn, batch_size=batch_size)\n",
    "test_loader = torch.utils.data.DataLoader(prepared_ds[\"test\"], shuffle=False, collate_fn=collate_fn, batch_size=batch_size)"
   ]
  },
  {
   "cell_type": "markdown",
   "metadata": {},
   "source": [
    "### Trainer Class"
   ]
  },
  {
   "cell_type": "code",
   "execution_count": null,
   "metadata": {},
   "outputs": [
    {
     "ename": "",
     "evalue": "",
     "output_type": "error",
     "traceback": [
      "\u001b[1;31mnotebook controller is DISPOSED. \n",
      "\u001b[1;31mView Jupyter <a href='command:jupyter.viewOutput'>log</a> for further details."
     ]
    }
   ],
   "source": [
    "class ViTTrainer:\n",
    "    def __init__(\n",
    "        self,\n",
    "        trainer_id,\n",
    "        train_loader,\n",
    "        test_loader,\n",
    "        classlabels,\n",
    "        criterion,\n",
    "        device,\n",
    "        propagator=None,\n",
    "        seed = None,\n",
    "        default_model_checkpoint='google/vit-base-patch16-224-in21k',\n",
    "    ):\n",
    "        self.id = trainer_id\n",
    "        self.model = None\n",
    "        self.optimizer = None\n",
    "        self.criterion = criterion\n",
    "        self.classlabels = classlabels\n",
    "        self.scheduler = None\n",
    "        self.device = device\n",
    "        self.global_epoch = 0\n",
    "        self.global_step = 0\n",
    "        self.clock_times = []\n",
    "        self.propagator = propagator\n",
    "        self.default_model_checkpoint = default_model_checkpoint\n",
    "\n",
    "        self.train_loader = train_loader\n",
    "        self.test_loader = test_loader\n",
    "        self.seed = seed\n",
    "        self.best_acc = 0\n",
    "\n",
    "    def reset(self):\n",
    "        del self.model\n",
    "        self.model = None\n",
    "        del self.optimizer\n",
    "        self.optimizer = None\n",
    "\n",
    "    def set_random_seeds(self, seed):\n",
    "        torch.manual_seed(seed)\n",
    "        torch.cuda.manual_seed(seed)\n",
    "        torch.cuda.manual_seed_all(seed)\n",
    "        np.random.seed(seed)\n",
    "        random.seed(seed)\n",
    "        torch.manual_seed(seed)\n",
    "        os.environ[\"PYTHONHASHSEED\"] = str(seed)\n",
    "\n",
    "        torch.backends.cudnn.benchmark = False\n",
    "        torch.backends.cudnn.deterministic = True\n",
    "        torch.backends.cudnn.enabled = False\n",
    "\n",
    "    def grad_step(self, batch):\n",
    "\n",
    "        self.model.train()\n",
    "        with torch.enable_grad():\n",
    "            self.optimizer.zero_grad()\n",
    "            \n",
    "            labels = batch.get(\"labels\", None)\n",
    "            inputs = batch.get(\"pixel_values\", None)\n",
    "            \n",
    "            start1 = time.time()\n",
    "            out = self.model(pixel_values = inputs)[\"logits\"]\n",
    "            loss = self.criterion(out, labels)\n",
    "            loss.backward()\n",
    "            end1 = time.time()\n",
    "\n",
    "            # Update Clipping. Training may become unstable otherwise, especially in small models with large learning rates.\n",
    "            # In larger models (e.g., VGG, ResNet), where smaller learning rates are generally utilized, not clipping updates may result in better performance.\n",
    "            torch.nn.utils.clip_grad_norm_(self.model.parameters(), 3.0, 2.0)\n",
    "\n",
    "            start2 = time.time()\n",
    "            self.optimizer.step()\n",
    "            end2 = time.time()\n",
    "\n",
    "            clock_time = end2-start2 + end1-start1\n",
    "            self.clock_times.append(clock_time)\n",
    "\n",
    "        self.model.eval()\n",
    "\n",
    "        self.global_step += 1\n",
    "\n",
    "    def lfp_step(self, batch):\n",
    "        self.model.train()\n",
    "\n",
    "        with torch.enable_grad():\n",
    "            self.optimizer.zero_grad()\n",
    "            \n",
    "            with self.propagator.context(self.model, dummy_inputs={\"pixel_values\": torch.randn(1, 3, 224, 224, device=device)}) as modified:\n",
    "                \n",
    "                labels = batch.get(\"labels\", None)\n",
    "                inputs = batch.get(\"pixel_values\", None).requires_grad_(True)\n",
    "                \n",
    "                start1 = time.time()\n",
    "                outputs = modified(pixel_values = inputs)[\"logits\"]\n",
    "                #print(outputs.sum())\n",
    "\n",
    "                # Calculate rewardLpt in memory\n",
    "                reward = torch.from_numpy(self.criterion(outputs, labels).detach().cpu().numpy()).to(device)\n",
    "\n",
    "                # Calculate LFP and write into .feedback attribute of parameters\n",
    "                torch.autograd.grad((outputs,), (inputs,), grad_outputs=(reward,), retain_graph=False)[0]\n",
    "                end1 = time.time()\n",
    "\n",
    "                # Write LFP Values into .grad attributes. Note the negative sign: LFP requires maximization instead of minimization like gradient descent\n",
    "                for name, param in self.model.named_parameters():\n",
    "                    if param.requires_grad:\n",
    "                        #print(name, param.feedback.min(), param.feedback.max())\n",
    "                        param.grad = -param.feedback\n",
    "\n",
    "                # Update Clipping. Training may become unstable otherwise, especially in small models with large learning rates.\n",
    "                # In larger models (e.g., VGG, ResNet), where smaller learning rates are generally utilized, not clipping updates may result in better performance.\n",
    "                torch.nn.utils.clip_grad_norm_(self.model.parameters(), 3.0, 2.0)\n",
    "\n",
    "                # Optimization step\n",
    "                start2 = time.time()\n",
    "                self.optimizer.step()\n",
    "                end2 = time.time()\n",
    "                \n",
    "                clock_time = end2-start2 + end1-start1\n",
    "                self.clock_times.append(clock_time)\n",
    "\n",
    "        self.model.eval()\n",
    "\n",
    "        self.global_step += 1\n",
    "\n",
    "    def train(\n",
    "        self,\n",
    "        epochs,\n",
    "        savepath=None,\n",
    "        fromscratch=False,\n",
    "    ):\n",
    "        self.set_random_seeds(self.seed)\n",
    "        \n",
    "        if not fromscratch and savepath:\n",
    "            self.load(savepath, \"last\")\n",
    "        elif fromscratch:\n",
    "            self.load(savepath, \"init\")\n",
    "            \n",
    "        train_evals = []\n",
    "        test_evals = []\n",
    "            \n",
    "        eval_stats_train = self.eval(datasplit=\"train\")\n",
    "        eval_stats_test = self.eval(datasplit=\"test\")\n",
    "        train_evals.append(eval_stats_train)\n",
    "        test_evals.append(eval_stats_test)\n",
    "\n",
    "        print(\n",
    "            \"Initial Eval: (Train Criterion) {:.2f}; (Train Accuracy) {:.2f}; (Test Criterion) {:.2f}; (Test Accuracy) {:.2f}\".format(\n",
    "                float(np.mean(eval_stats_train[\"criterion\"])),\n",
    "                (\n",
    "                    float(eval_stats_train[\"accuracy\"])\n",
    "                ),\n",
    "                float(np.mean(eval_stats_test[\"criterion\"])),\n",
    "                (\n",
    "                    float(eval_stats_test[\"accuracy\"])\n",
    "                ),\n",
    "            )\n",
    "        )\n",
    "\n",
    "        for epoch in range(epochs):\n",
    "            with tqdm(total=len(self.train_loader)) as pbar:\n",
    "                for index, batch in enumerate(self.train_loader):\n",
    "\n",
    "                    batch = {k: v.to(device) for k, v in batch.items()}\n",
    "\n",
    "                    if self.propagator is None:\n",
    "                        # Grad Step\n",
    "                        self.grad_step(batch)\n",
    "                    else:\n",
    "                        # LFP Step\n",
    "                        self.lfp_step(batch)\n",
    "                    \n",
    "                    pbar.update(1)\n",
    "\n",
    "            eval_stats_train = self.eval(datasplit=\"train\")\n",
    "            eval_stats_test = self.eval(datasplit=\"test\")\n",
    "            train_evals.append(eval_stats_train)\n",
    "            test_evals.append(eval_stats_test)\n",
    "\n",
    "            print(\n",
    "                \"Epoch {}/{}: (Train Criterion) {:.2f}; (Train Accuracy) {:.2f}; (Test Criterion) {:.2f}; (Test Accuracy) {:.2f}\".format(\n",
    "                    epoch + 1,\n",
    "                    epochs,\n",
    "                    float(np.mean(eval_stats_train[\"criterion\"])),\n",
    "                    (\n",
    "                        float(eval_stats_train[\"accuracy\"])\n",
    "                    ),\n",
    "                    float(np.mean(eval_stats_test[\"criterion\"])),\n",
    "                    (\n",
    "                        float(eval_stats_test[\"accuracy\"])\n",
    "                    ),\n",
    "                )\n",
    "            )\n",
    "\n",
    "            self.global_epoch += 1\n",
    "\n",
    "            if savepath:\n",
    "                self.save(savepath, \"last\", train_evals=train_evals, test_evals=test_evals)\n",
    "                \n",
    "                accuracy = (\n",
    "                    float(eval_stats_test[\"accuracy\"])\n",
    "                )\n",
    "                if accuracy > self.best_acc:\n",
    "                    self.save(savepath, \"best\", train_evals=train_evals, test_evals=test_evals)\n",
    "                    self.best_acc = accuracy\n",
    "    \n",
    "    def eval(self, datasplit=\"test\"):\n",
    "        \"\"\"\n",
    "        Evaluates the model on a single dataset\n",
    "        \"\"\"\n",
    "        \n",
    "        loader = self.train_loader if datasplit == \"train\" else self.test_loader\n",
    "        \n",
    "        eval_metrics = {\n",
    "            \"criterion\": torcheval.metrics.Mean(device=device),\n",
    "            \"accuracy\": torcheval.metrics.MulticlassAccuracy(average=\"micro\", num_classes=3, k=1, device=device),\n",
    "        }\n",
    "\n",
    "        self.model.eval()\n",
    "\n",
    "        # Iterate over Data Loader\n",
    "        for index, batch in enumerate(loader):\n",
    "            batch = {k: v.to(device) for k, v in batch.items()}\n",
    "            labels = batch.get(\"labels\", None)\n",
    "            inputs = batch.get(\"pixel_values\", None).requires_grad_(True)\n",
    "\n",
    "            with torch.no_grad():\n",
    "                # Get model predictions\n",
    "                outputs = self.model(pixel_values = inputs)[\"logits\"]\n",
    "                print(outputs.shape)\n",
    "\n",
    "            with torch.set_grad_enabled(True):\n",
    "                # Get criterion\n",
    "                crit = self.criterion(outputs, labels)\n",
    "\n",
    "            for k, v in eval_metrics.items():\n",
    "                if k == \"criterion\":\n",
    "                    eval_metrics[k].update(crit)\n",
    "                else:\n",
    "                    eval_metrics[k].update(outputs, labels)\n",
    "\n",
    "        return_dict = {m: metric.compute().detach().cpu().numpy() for m, metric in eval_metrics.items()}\n",
    "\n",
    "        # Return evaluation\n",
    "        return return_dict\n",
    "\n",
    "    def save(self, savepath, saveappendage, train_evals=None, test_evals=None):\n",
    "        cfg_checkpoint = {\n",
    "            \"epoch\": self.global_epoch,\n",
    "            \"step\": self.global_step,\n",
    "            \"random_state\": {\n",
    "                \"torch\": torch.get_rng_state(),\n",
    "                \"cuda\": torch.cuda.get_rng_state(self.device),\n",
    "                \"numpy\": np.random.get_state(),\n",
    "                \"random\": random.getstate(),\n",
    "            },\n",
    "        }\n",
    "        if self.optimizer:\n",
    "            cfg_checkpoint[\"optimizer\"] = self.optimizer.state_dict()\n",
    "        if self.scheduler:\n",
    "            cfg_checkpoint[\"scheduler\"] = self.scheduler.state_dict()\n",
    "        if self.clock_times:\n",
    "            cfg_checkpoint[\"clock_times\"] = self.clock_times\n",
    "        if train_evals:\n",
    "            cfg_checkpoint[\"train_evals\"] = train_evals\n",
    "        if test_evals:\n",
    "            cfg_checkpoint[\"test_evals\"] = test_evals\n",
    "\n",
    "        torch.save(cfg_checkpoint, os.path.join(savepath, f\"cfg_ckpt-{self.id}-{saveappendage}.pt\"))\n",
    "        self.model.save_pretrained(os.path.join(savepath, f\"model_{self.id}-{saveappendage}\"))\n",
    "\n",
    "    def load(self, savepath, saveappendage):\n",
    "        \n",
    "        model_checkpoint = None\n",
    "        optimizer_checkpoint = None\n",
    "        \n",
    "        train_evals = None\n",
    "        test_evals = None\n",
    "\n",
    "        if os.path.exists(os.path.join(savepath, f\"cfg_ckpt-{self.id}-{saveappendage}.pt\")):\n",
    "\n",
    "            print(f\"Loading from {os.path.join(savepath, f'cfg_ckpt-{self.id}-{saveappendage}.pt')}\")\n",
    "\n",
    "            cfg_checkpoint = torch.load(os.path.join(savepath, f\"cfg_ckpt-{self.id}-{saveappendage}.pt\"), weights_only=False)\n",
    "            if self.optimizer:\n",
    "                optimizer_checkpoint = cfg_checkpoint[\"optimizer\"]\n",
    "            if self.scheduler:\n",
    "                self.scheduler.load_state_dict(cfg_checkpoint[\"scheduler\"])\n",
    "            if \"clock_times\" in cfg_checkpoint:\n",
    "                self.clock_times = cfg_checkpoint[\"clock_times\"]\n",
    "            if \"train_evals\" in cfg_checkpoint:\n",
    "                train_evals = cfg_checkpoint[\"train_evals\"]\n",
    "            if \"test_evals\" in cfg_checkpoint:\n",
    "                test_evals = cfg_checkpoint[\"test_evals\"]\n",
    "            self.global_epoch = cfg_checkpoint[\"epoch\"]\n",
    "            self.global_step = cfg_checkpoint[\"step\"]\n",
    "\n",
    "            torch.set_rng_state(cfg_checkpoint[\"random_state\"][\"torch\"])\n",
    "            torch.cuda.set_rng_state(cfg_checkpoint[\"random_state\"][\"cuda\"], device)\n",
    "            np.random.set_state(cfg_checkpoint[\"random_state\"][\"numpy\"])\n",
    "            random.setstate(cfg_checkpoint[\"random_state\"][\"random\"])\n",
    "            \n",
    "            model_checkpoint = os.path.join(savepath, f\"model_{self.id}-{saveappendage}\")\n",
    "        \n",
    "        if not model_checkpoint:\n",
    "            model_checkpoint = self.default_model_checkpoint\n",
    "        \n",
    "        self.model = transformers.ViTForImageClassification.from_pretrained(\n",
    "            model_checkpoint,\n",
    "            num_labels=len(self.classlabels),\n",
    "            id2label={str(i): c for i, c in enumerate(self.classlabels)},\n",
    "            label2id={c: str(i) for i, c in enumerate(self.classlabels)},\n",
    "            _attn_implementation = \"eager\"\n",
    "        )\n",
    "        \n",
    "        # Note: We aim to finetune the model here, so we set the embedding parameters to not require grad.\n",
    "        for name, param in self.model.vit.embeddings.named_parameters():\n",
    "            param.requires_grad = False\n",
    "\n",
    "        self.model.to(device)\n",
    "        \n",
    "        if not optimizer_checkpoint:\n",
    "            #self.optimizer = torch.optim.AdamW(self.model.parameters(), lr=lr)\n",
    "            self.optimizer = torch.optim.Adam(self.model.parameters(), lr=lr)\n",
    "        else:\n",
    "            self.optimizer.load_state_dict(optimizer_checkpoint)\n",
    "            \n",
    "        return train_evals, test_evals"
   ]
  },
  {
   "cell_type": "markdown",
   "metadata": {},
   "source": []
  },
  {
   "cell_type": "markdown",
   "metadata": {},
   "source": [
    "### Set Up LFP"
   ]
  },
  {
   "cell_type": "code",
   "execution_count": null,
   "metadata": {},
   "outputs": [
    {
     "ename": "",
     "evalue": "",
     "output_type": "error",
     "traceback": [
      "\u001b[1;31mnotebook controller is DISPOSED. \n",
      "\u001b[1;31mView Jupyter <a href='command:jupyter.viewOutput'>log</a> for further details."
     ]
    }
   ],
   "source": [
    "# Initialize the LFP Composite (cf. \"composites\" in zennit or lxt).\n",
    "# This composite is tailored to the specific model.\n",
    "propagation_composites = {\n",
    "    \"lfp-epsilon\": propagator.LFPEpsilonComposite(),\n",
    "    \"vanilla-gradient\": None,\n",
    "}\n",
    "\n",
    "# Initialize the Reward Function.\n",
    "# Here we use the Reward Function suggested in the LFP-Paper, but check out other reward functions in ./lfp/rewards/reward_functions.py\n",
    "critrions = {\n",
    "    \"lfp-epsilon\": rewards.SoftmaxLossReward(device),\n",
    "    \"vanilla-gradient\": loss_fns.CustomCrossEntropyLoss()\n",
    "}"
   ]
  },
  {
   "cell_type": "markdown",
   "metadata": {},
   "source": [
    "### Define Trainers"
   ]
  },
  {
   "cell_type": "code",
   "execution_count": null,
   "metadata": {},
   "outputs": [
    {
     "ename": "",
     "evalue": "",
     "output_type": "error",
     "traceback": [
      "\u001b[1;31mnotebook controller is DISPOSED. \n",
      "\u001b[1;31mView Jupyter <a href='command:jupyter.viewOutput'>log</a> for further details."
     ]
    }
   ],
   "source": [
    "trainers = {}\n",
    "\n",
    "for prop_comp in propagation_composites.keys():\n",
    "    trainers[prop_comp] = []\n",
    "    for seed in seeds:\n",
    "        trainer_id = f\"{prop_comp}-{seed}\"\n",
    "        \n",
    "        trainers[prop_comp].append(\n",
    "            ViTTrainer(\n",
    "                trainer_id,\n",
    "                training_loader,\n",
    "                test_loader,\n",
    "                ds['train'].features['labels'].names,\n",
    "                critrions[prop_comp],\n",
    "                device,\n",
    "                propagation_composites[prop_comp],\n",
    "                seed,\n",
    "                default_model_checkpoint=model_path\n",
    "            )\n",
    "        )"
   ]
  },
  {
   "cell_type": "markdown",
   "metadata": {},
   "source": [
    "### Training Loop"
   ]
  },
  {
   "cell_type": "code",
   "execution_count": null,
   "metadata": {},
   "outputs": [
    {
     "name": "stdout",
     "output_type": "stream",
     "text": [
      "Trainer 1/1 for propgator lfp-epsilon\n"
     ]
    },
    {
     "name": "stderr",
     "output_type": "stream",
     "text": [
      "Some weights of ViTForImageClassification were not initialized from the model checkpoint at google/vit-base-patch16-224-in21k and are newly initialized: ['classifier.bias', 'classifier.weight']\n",
      "You should probably TRAIN this model on a down-stream task to be able to use it for predictions and inference.\n"
     ]
    },
    {
     "name": "stdout",
     "output_type": "stream",
     "text": [
      "torch.Size([32, 3])\n",
      "torch.Size([32, 3])\n",
      "torch.Size([32, 3])\n",
      "torch.Size([32, 3])\n",
      "torch.Size([32, 3])\n",
      "torch.Size([32, 3])\n",
      "torch.Size([32, 3])\n",
      "torch.Size([32, 3])\n",
      "torch.Size([32, 3])\n",
      "torch.Size([32, 3])\n",
      "torch.Size([32, 3])\n",
      "torch.Size([32, 3])\n",
      "torch.Size([32, 3])\n",
      "torch.Size([32, 3])\n",
      "torch.Size([32, 3])\n",
      "torch.Size([32, 3])\n",
      "torch.Size([32, 3])\n",
      "torch.Size([32, 3])\n",
      "torch.Size([32, 3])\n",
      "torch.Size([32, 3])\n"
     ]
    },
    {
     "ename": "",
     "evalue": "",
     "output_type": "error",
     "traceback": [
      "\u001b[1;31mnotebook controller is DISPOSED. \n",
      "\u001b[1;31mView Jupyter <a href='command:jupyter.viewOutput'>log</a> for further details."
     ]
    }
   ],
   "source": [
    "warnings.filterwarnings(\"ignore\")\n",
    "\n",
    "eval_stats_best = { p: {\n",
    "        \"train\": [],\n",
    "        \"test\": [],\n",
    "        \"clock_times\": []\n",
    "    } for p in propagation_composites.keys()\n",
    "}\n",
    "\n",
    "eval_stats_last = { p: {\n",
    "        \"train\": [],\n",
    "        \"test\": [],\n",
    "        \"clock_times\": []\n",
    "    } for p in propagation_composites.keys()\n",
    "}\n",
    "\n",
    "# Training Loop\n",
    "for prop_comp, p_trainers in trainers.items():\n",
    "    for t, trainer in enumerate(p_trainers):\n",
    "        print(f\"Trainer {t+1}/{len(p_trainers)} for propgator {prop_comp}\")\n",
    "        if not os.path.exists(os.path.join(savepath, f\"cfg_ckpt-{trainer.id}-best.pt\")) or retrain:\n",
    "            trainer.train(\n",
    "                epochs,\n",
    "                savepath=savepath,\n",
    "                fromscratch=True,\n",
    "            )\n",
    "            trainer.reset()\n",
    "        train_stats, test_stats = trainer.load(\n",
    "            savepath,\n",
    "            \"best\",\n",
    "        )\n",
    "        clock_times = trainer.clock_times\n",
    "        eval_stats_best[prop_comp][\"train\"].append(train_stats)\n",
    "        eval_stats_best[prop_comp][\"test\"].append(test_stats)\n",
    "        eval_stats_best[prop_comp][\"clock_times\"].append(clock_times)\n",
    "        trainer.reset()\n",
    "        \n",
    "        train_stats, test_stats = trainer.load(\n",
    "            savepath,\n",
    "            \"last\",\n",
    "        )\n",
    "        clock_times = trainer.clock_times\n",
    "        eval_stats_last[prop_comp][\"train\"].append(train_stats)\n",
    "        eval_stats_last[prop_comp][\"test\"].append(test_stats)\n",
    "        eval_stats_last[prop_comp][\"clock_times\"].append(clock_times)\n",
    "        trainer.reset()"
   ]
  },
  {
   "cell_type": "markdown",
   "metadata": {},
   "source": [
    "### Plot Results"
   ]
  },
  {
   "cell_type": "code",
   "execution_count": null,
   "metadata": {},
   "outputs": [
    {
     "data": {
      "image/png": "[encoded data removed]",
      "text/plain": [
       "<Figure size 600x300 with 1 Axes>"
      ]
     },
     "metadata": {},
     "output_type": "display_data"
    },
    {
     "data": {
      "image/png": "[encoded data removed]",
      "text/plain": [
       "<Figure size 600x300 with 1 Axes>"
      ]
     },
     "metadata": {},
     "output_type": "display_data"
    },
    {
     "ename": "",
     "evalue": "",
     "output_type": "error",
     "traceback": [
      "\u001b[1;31mnotebook controller is DISPOSED. \n",
      "\n",
      "\u001b[1;31mView Jupyter <a href='command:jupyter.viewOutput'>log</a> for further details."
     ]
    },
    {
     "ename": "",
     "evalue": "",
     "output_type": "error",
     "traceback": [
      "\u001b[1;31mnotebook controller is DISPOSED. \n",
      "\u001b[1;31mView Jupyter <a href='command:jupyter.viewOutput'>log</a> for further details."
     ]
    }
   ],
   "source": [
    "# Plot Settings\n",
    "# Set font properties.\n",
    "import matplotlib.pyplot as plt\n",
    "import matplotlib.font_manager as font_manager\n",
    "import matplotlib.cm as cm\n",
    "import copy\n",
    "font_path = plt.matplotlib.get_data_path() + \"/fonts/ttf/cmr10.ttf\"\n",
    "cmfont = font_manager.FontProperties(fname=font_path)\n",
    "plt.rcParams[\"font.family\"] = \"serif\"\n",
    "plt.rcParams[\"font.serif\"] = cmfont.get_name()\n",
    "plt.rcParams[\"mathtext.fontset\"] = \"cm\"\n",
    "\n",
    "# Set font size.\n",
    "plt.rcParams[\"font.size\"] = 15\n",
    "\n",
    "# Disable unicode minus.\n",
    "plt.rcParams[\"axes.unicode_minus\"] = False\n",
    "\n",
    "# Use mathtext for axes formatters.\n",
    "plt.rcParams[\"axes.formatter.use_mathtext\"] = True\n",
    "\n",
    "plt.rcParams['axes.linewidth'] = 1.5\n",
    "\n",
    "def plot_stats_over_epochs(eval_stats, fname, colormap=\"Set1\", split=\"test\"):\n",
    "    fig, ax = plt.subplots(1, 1, figsize=(6, 3))\n",
    "\n",
    "    colors = np.linspace(0, 1, 9)\n",
    "    palette = cm.get_cmap(colormap)(colors)\n",
    "    pastel = 0.3\n",
    "    palette = (1 - pastel) * palette + pastel * np.ones((9, 4))\n",
    "    \n",
    "    SPLITS = {\n",
    "        \"train\": \"Train\",\n",
    "        \"test\": \"Test\"\n",
    "    }\n",
    "    \n",
    "    LABELS = {\n",
    "        \"lfp-epsilon\": r\"LFP-$\\varepsilon$\",\n",
    "        \"lfp-zplus-zminus\": r\"LFP-$z^+z^-$\",\n",
    "        \"vanilla-gradient\": r\"Grad\",\n",
    "    }\n",
    "\n",
    "    for p, (prop_name, data) in enumerate(eval_stats.items()):\n",
    "        plot_data = []\n",
    "        clock_times = []\n",
    "        for s, seed in enumerate(seeds):\n",
    "            plot_data.append([data[split][s][i][\"accuracy\"] for i in range(len(data[split][s]))])\n",
    "            clock_times.append(data[\"clock_times\"][s])\n",
    "        plot_means = np.mean(plot_data, axis=0)\n",
    "        plot_stds = np.std(plot_data, axis=0)\n",
    "        clock_mean = np.mean(clock_times)\n",
    "\n",
    "        xaxis = np.arange(0, len(plot_means))\n",
    "\n",
    "        ax.plot(xaxis, plot_means, color=palette[p], label=LABELS[prop_name], linewidth=3.5, alpha=1)\n",
    "        ax.fill_between(\n",
    "            xaxis,\n",
    "            plot_means + plot_stds,\n",
    "            plot_means - plot_stds,\n",
    "            color=palette[p],\n",
    "            alpha=0.2,\n",
    "        )\n",
    "        #ax.text(len(plot_means)-2, 0.15*p+0.05, f\"{np.abs(clock_mean):.2f}\" + r\" $\\frac{sec.}{step}$\", color=palette[p], horizontalalignment=\"right\", verticalalignment=\"bottom\")\n",
    "\n",
    "    linelocs = [0.0, 0.2, 0.4, 0.6, 0.8, 1.0]\n",
    "    ax.hlines(\n",
    "        linelocs,\n",
    "        xmin=-1,\n",
    "        xmax=xaxis[-1],\n",
    "        color=(0.5, 0.5, 0.5, 1),\n",
    "        linewidth=1.5,\n",
    "        zorder=0,\n",
    "    )\n",
    "\n",
    "    ax.set_ylabel(f\"{SPLITS[split]} Accuracy [%]\")\n",
    "    ax.set_xlabel(\"Epoch\")\n",
    "    ax.set_ylim([0.0, 1.01])\n",
    "    ax.set_yticks([0.0, 0.2, 0.4, 0.6, 0.8, 1.0])\n",
    "    ax.set_xlim([0.0, xaxis[-1]])\n",
    "    ax.set_yticklabels([0, 20, 40, 60, 80, 100])\n",
    "    ax.tick_params(length=6, width=2)\n",
    "    # ax.set_xlim([0, 200])\n",
    "    ax.legend()\n",
    "    plt.show()\n",
    "    fig.savefig(fname)\n",
    "\n",
    "plot_stats_over_epochs(eval_stats_last, os.path.join(savepath, \"accuracies-train.svg\"), colormap=\"Set1\", split=\"train\")\n",
    "plot_stats_over_epochs(eval_stats_last, os.path.join(savepath, \"accuracies-test.svg\"), colormap=\"Set1\", split=\"test\")"
   ]
  }
 ],
 "metadata": {
  "kernelspec": {
   "display_name": "lfprop-KukTaqIE-py3.11 (3.11.11)",
   "language": "python",
   "name": "python3"
  },
  "language_info": {
   "codemirror_mode": {
    "name": "ipython",
    "version": 3
   },
   "file_extension": ".py",
   "mimetype": "text/x-python",
   "name": "python",
   "nbconvert_exporter": "python",
   "pygments_lexer": "ipython3",
   "version": "3.11.11"
  }
 },
 "nbformat": 4,
 "nbformat_minor": 2
}
