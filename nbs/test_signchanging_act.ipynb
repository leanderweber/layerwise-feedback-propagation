{
 "cells": [
  {
   "cell_type": "markdown",
   "metadata": {},
   "source": [
    "This Notebook provides a minimal example for using LFP to train a simple LeNet on MNIST.\n",
    "\n",
    "For more complex examples, refer to the experiment notebooks in ./nbs"
   ]
  },
  {
   "cell_type": "markdown",
   "metadata": {},
   "source": [
    "### Imports"
   ]
  },
  {
   "cell_type": "code",
   "execution_count": 1,
   "metadata": {},
   "outputs": [
    {
     "name": "stderr",
     "output_type": "stream",
     "text": [
      "/home/lweber/.cache/pypoetry/virtualenvs/lfprop-KukTaqIE-py3.11/lib/python3.11/site-packages/tqdm/auto.py:21: TqdmWarning: IProgress not found. Please update jupyter and ipywidgets. See https://ipywidgets.readthedocs.io/en/stable/user_install.html\n",
      "  from .autonotebook import tqdm as notebook_tqdm\n"
     ]
    }
   ],
   "source": [
    "import os\n",
    "\n",
    "import numpy as np\n",
    "import torch\n",
    "import torch.nn as tnn\n",
    "import torcheval.metrics\n",
    "import torchvision.datasets as tvisiondata\n",
    "import torchvision.transforms as T\n",
    "from tqdm import tqdm\n",
    "\n",
    "from lxt import rules as lrules\n",
    "from zennit import types as ztypes\n",
    "\n",
    "from experiment_utils.model.models import ACTIVATION_MAP\n",
    "\n",
    "from lfprop.propagation import (\n",
    "    propagator_lxt as propagator,\n",
    ")  # LFP propagator. Alternatively, use propagator_zennit\n",
    "from lfprop.rewards import reward_functions as rewards  # Reward Functions"
   ]
  },
  {
   "cell_type": "markdown",
   "metadata": {},
   "source": [
    "### Parameters"
   ]
  },
  {
   "cell_type": "code",
   "execution_count": 2,
   "metadata": {},
   "outputs": [],
   "source": [
    "savepath = \"sftp://lweber@172.16.25.141/media/lweber/f3ed2aae-a7bf-4a55-b50d-ea8fb534f1f52/reward-backprop/resubmission-1-experiments/noisy-stepfunc-training/signchanging-act-data\"\n",
    "os.makedirs(savepath, exist_ok=True)\n",
    "\n",
    "batch_size = 128\n",
    "n_channels = 1\n",
    "n_outputs = 10\n",
    "\n",
    "lr = 0.1\n",
    "momentum = 0.9\n",
    "epochs = 1\n",
    "\n",
    "device = torch.device(\"cuda\" if torch.cuda.is_available() else \"cpu\")"
   ]
  },
  {
   "cell_type": "markdown",
   "metadata": {},
   "source": [
    "### Load Dataset"
   ]
  },
  {
   "cell_type": "code",
   "execution_count": 3,
   "metadata": {},
   "outputs": [],
   "source": [
    "transform = T.Compose([T.ToTensor(), T.Normalize((0.5,), (0.5,))])\n",
    "training_data = tvisiondata.MNIST(\n",
    "    root=savepath,\n",
    "    transform=transform,\n",
    "    download=True,\n",
    "    train=True,\n",
    ")\n",
    "\n",
    "validation_data = tvisiondata.MNIST(\n",
    "    root=savepath,\n",
    "    transform=transform,\n",
    "    download=True,\n",
    "    train=False,\n",
    ")\n",
    "\n",
    "training_loader = torch.utils.data.DataLoader(training_data, batch_size=batch_size, shuffle=True)\n",
    "validation_loader = torch.utils.data.DataLoader(validation_data, batch_size=batch_size, shuffle=False)"
   ]
  },
  {
   "cell_type": "code",
   "execution_count": 4,
   "metadata": {},
   "outputs": [],
   "source": [
    "# Build activations dict\n",
    "activations = [\"negtanh\", \"negrelu\", \"neginnerrelu\", \"negstep\"]\n",
    "\n",
    "result_dict = {\n",
    "    act: {\"LFP\": [], \"adaptedLFP\": []} for act in activations\n",
    "}"
   ]
  },
  {
   "cell_type": "markdown",
   "metadata": {},
   "source": [
    "### Load Model"
   ]
  },
  {
   "cell_type": "code",
   "execution_count": 5,
   "metadata": {},
   "outputs": [
    {
     "name": "stdout",
     "output_type": "stream",
     "text": [
      "negtanh LFP LeNet(\n",
      "  (features): Sequential(\n",
      "    (0): Conv2d(1, 16, kernel_size=(5, 5), stride=(1, 1))\n",
      "    (1): NegTanh()\n",
      "    (2): MaxPool2d(kernel_size=2, stride=2, padding=0, dilation=1, ceil_mode=False)\n",
      "    (3): Conv2d(16, 16, kernel_size=(5, 5), stride=(1, 1))\n",
      "    (4): NegTanh()\n",
      "    (5): MaxPool2d(kernel_size=2, stride=2, padding=0, dilation=1, ceil_mode=False)\n",
      "  )\n",
      "  (classifier): Sequential(\n",
      "    (0): Linear(in_features=256, out_features=120, bias=True)\n",
      "    (1): NegTanh()\n",
      "    (2): Dropout(p=0.5, inplace=False)\n",
      "    (3): Linear(in_features=120, out_features=84, bias=True)\n",
      "    (4): NegTanh()\n",
      "    (5): Dropout(p=0.5, inplace=False)\n",
      "  )\n",
      "  (last): Linear(in_features=84, out_features=10, bias=True)\n",
      ")\n",
      "negtanh adaptedLFP LeNet(\n",
      "  (features): Sequential(\n",
      "    (0): Conv2d(1, 16, kernel_size=(5, 5), stride=(1, 1))\n",
      "    (1): NegTanh()\n",
      "    (2): MaxPool2d(kernel_size=2, stride=2, padding=0, dilation=1, ceil_mode=False)\n",
      "    (3): Conv2d(16, 16, kernel_size=(5, 5), stride=(1, 1))\n",
      "    (4): NegTanh()\n",
      "    (5): MaxPool2d(kernel_size=2, stride=2, padding=0, dilation=1, ceil_mode=False)\n",
      "  )\n",
      "  (classifier): Sequential(\n",
      "    (0): Linear(in_features=256, out_features=120, bias=True)\n",
      "    (1): NegTanh()\n",
      "    (2): Dropout(p=0.5, inplace=False)\n",
      "    (3): Linear(in_features=120, out_features=84, bias=True)\n",
      "    (4): NegTanh()\n",
      "    (5): Dropout(p=0.5, inplace=False)\n",
      "  )\n",
      "  (last): Linear(in_features=84, out_features=10, bias=True)\n",
      ")\n",
      "negrelu LFP LeNet(\n",
      "  (features): Sequential(\n",
      "    (0): Conv2d(1, 16, kernel_size=(5, 5), stride=(1, 1))\n",
      "    (1): NegReLU()\n",
      "    (2): MaxPool2d(kernel_size=2, stride=2, padding=0, dilation=1, ceil_mode=False)\n",
      "    (3): Conv2d(16, 16, kernel_size=(5, 5), stride=(1, 1))\n",
      "    (4): NegReLU()\n",
      "    (5): MaxPool2d(kernel_size=2, stride=2, padding=0, dilation=1, ceil_mode=False)\n",
      "  )\n",
      "  (classifier): Sequential(\n",
      "    (0): Linear(in_features=256, out_features=120, bias=True)\n",
      "    (1): NegReLU()\n",
      "    (2): Dropout(p=0.5, inplace=False)\n",
      "    (3): Linear(in_features=120, out_features=84, bias=True)\n",
      "    (4): NegReLU()\n",
      "    (5): Dropout(p=0.5, inplace=False)\n",
      "  )\n",
      "  (last): Linear(in_features=84, out_features=10, bias=True)\n",
      ")\n",
      "negrelu adaptedLFP LeNet(\n",
      "  (features): Sequential(\n",
      "    (0): Conv2d(1, 16, kernel_size=(5, 5), stride=(1, 1))\n",
      "    (1): NegReLU()\n",
      "    (2): MaxPool2d(kernel_size=2, stride=2, padding=0, dilation=1, ceil_mode=False)\n",
      "    (3): Conv2d(16, 16, kernel_size=(5, 5), stride=(1, 1))\n",
      "    (4): NegReLU()\n",
      "    (5): MaxPool2d(kernel_size=2, stride=2, padding=0, dilation=1, ceil_mode=False)\n",
      "  )\n",
      "  (classifier): Sequential(\n",
      "    (0): Linear(in_features=256, out_features=120, bias=True)\n",
      "    (1): NegReLU()\n",
      "    (2): Dropout(p=0.5, inplace=False)\n",
      "    (3): Linear(in_features=120, out_features=84, bias=True)\n",
      "    (4): NegReLU()\n",
      "    (5): Dropout(p=0.5, inplace=False)\n",
      "  )\n",
      "  (last): Linear(in_features=84, out_features=10, bias=True)\n",
      ")\n",
      "neginnerrelu LFP LeNet(\n",
      "  (features): Sequential(\n",
      "    (0): Conv2d(1, 16, kernel_size=(5, 5), stride=(1, 1))\n",
      "    (1): NegInnerReLU()\n",
      "    (2): MaxPool2d(kernel_size=2, stride=2, padding=0, dilation=1, ceil_mode=False)\n",
      "    (3): Conv2d(16, 16, kernel_size=(5, 5), stride=(1, 1))\n",
      "    (4): NegInnerReLU()\n",
      "    (5): MaxPool2d(kernel_size=2, stride=2, padding=0, dilation=1, ceil_mode=False)\n",
      "  )\n",
      "  (classifier): Sequential(\n",
      "    (0): Linear(in_features=256, out_features=120, bias=True)\n",
      "    (1): NegInnerReLU()\n",
      "    (2): Dropout(p=0.5, inplace=False)\n",
      "    (3): Linear(in_features=120, out_features=84, bias=True)\n",
      "    (4): NegInnerReLU()\n",
      "    (5): Dropout(p=0.5, inplace=False)\n",
      "  )\n",
      "  (last): Linear(in_features=84, out_features=10, bias=True)\n",
      ")\n",
      "neginnerrelu adaptedLFP LeNet(\n",
      "  (features): Sequential(\n",
      "    (0): Conv2d(1, 16, kernel_size=(5, 5), stride=(1, 1))\n",
      "    (1): NegInnerReLU()\n",
      "    (2): MaxPool2d(kernel_size=2, stride=2, padding=0, dilation=1, ceil_mode=False)\n",
      "    (3): Conv2d(16, 16, kernel_size=(5, 5), stride=(1, 1))\n",
      "    (4): NegInnerReLU()\n",
      "    (5): MaxPool2d(kernel_size=2, stride=2, padding=0, dilation=1, ceil_mode=False)\n",
      "  )\n",
      "  (classifier): Sequential(\n",
      "    (0): Linear(in_features=256, out_features=120, bias=True)\n",
      "    (1): NegInnerReLU()\n",
      "    (2): Dropout(p=0.5, inplace=False)\n",
      "    (3): Linear(in_features=120, out_features=84, bias=True)\n",
      "    (4): NegInnerReLU()\n",
      "    (5): Dropout(p=0.5, inplace=False)\n",
      "  )\n",
      "  (last): Linear(in_features=84, out_features=10, bias=True)\n",
      ")\n",
      "negstep LFP LeNet(\n",
      "  (features): Sequential(\n",
      "    (0): Conv2d(1, 16, kernel_size=(5, 5), stride=(1, 1))\n",
      "    (1): NegStep()\n",
      "    (2): MaxPool2d(kernel_size=2, stride=2, padding=0, dilation=1, ceil_mode=False)\n",
      "    (3): Conv2d(16, 16, kernel_size=(5, 5), stride=(1, 1))\n",
      "    (4): NegStep()\n",
      "    (5): MaxPool2d(kernel_size=2, stride=2, padding=0, dilation=1, ceil_mode=False)\n",
      "  )\n",
      "  (classifier): Sequential(\n",
      "    (0): Linear(in_features=256, out_features=120, bias=True)\n",
      "    (1): NegStep()\n",
      "    (2): Dropout(p=0.5, inplace=False)\n",
      "    (3): Linear(in_features=120, out_features=84, bias=True)\n",
      "    (4): NegStep()\n",
      "    (5): Dropout(p=0.5, inplace=False)\n",
      "  )\n",
      "  (last): Linear(in_features=84, out_features=10, bias=True)\n",
      ")\n",
      "negstep adaptedLFP LeNet(\n",
      "  (features): Sequential(\n",
      "    (0): Conv2d(1, 16, kernel_size=(5, 5), stride=(1, 1))\n",
      "    (1): NegStep()\n",
      "    (2): MaxPool2d(kernel_size=2, stride=2, padding=0, dilation=1, ceil_mode=False)\n",
      "    (3): Conv2d(16, 16, kernel_size=(5, 5), stride=(1, 1))\n",
      "    (4): NegStep()\n",
      "    (5): MaxPool2d(kernel_size=2, stride=2, padding=0, dilation=1, ceil_mode=False)\n",
      "  )\n",
      "  (classifier): Sequential(\n",
      "    (0): Linear(in_features=256, out_features=120, bias=True)\n",
      "    (1): NegStep()\n",
      "    (2): Dropout(p=0.5, inplace=False)\n",
      "    (3): Linear(in_features=120, out_features=84, bias=True)\n",
      "    (4): NegStep()\n",
      "    (5): Dropout(p=0.5, inplace=False)\n",
      "  )\n",
      "  (last): Linear(in_features=84, out_features=10, bias=True)\n",
      ")\n"
     ]
    }
   ],
   "source": [
    "class LeNet(tnn.Module):\n",
    "    \"\"\"\n",
    "    Small LeNet\n",
    "    \"\"\"\n",
    "\n",
    "    def __init__(self, n_channels, n_outputs, activation=tnn.ReLU):\n",
    "        super().__init__()\n",
    "\n",
    "        # Feature extractor\n",
    "        self.features = tnn.Sequential(\n",
    "            tnn.Conv2d(n_channels, 16, 5),\n",
    "            activation(),\n",
    "            tnn.MaxPool2d(2, 2),\n",
    "            tnn.Conv2d(16, 16, 5),\n",
    "            activation(),\n",
    "            tnn.MaxPool2d(2, 2),\n",
    "        )\n",
    "\n",
    "        # Classifier\n",
    "        self.classifier = tnn.Sequential(\n",
    "            tnn.Linear(256 if n_channels == 1 else 400, 120),\n",
    "            activation(),\n",
    "            tnn.Dropout(),\n",
    "            tnn.Linear(120, 84),\n",
    "            activation(),\n",
    "            tnn.Dropout(),\n",
    "        )\n",
    "\n",
    "        self.last = tnn.Linear(84, n_outputs)\n",
    "\n",
    "    def forward(self, x):\n",
    "        \"\"\"\n",
    "        forwards input through network\n",
    "        \"\"\"\n",
    "\n",
    "        # Forward through network\n",
    "        x = self.features(x)\n",
    "        x = torch.flatten(x, 1)\n",
    "        x = self.classifier(x)\n",
    "        x = self.last(x)\n",
    "\n",
    "        # Return output\n",
    "        return x\n",
    "\n",
    "\n",
    "for act in activations:\n",
    "    for prop in result_dict[act].keys():\n",
    "        act_model = LeNet(\n",
    "            n_channels=n_channels,\n",
    "            n_outputs=n_outputs,\n",
    "            activation=ACTIVATION_MAP[act],\n",
    "        )\n",
    "        act_model.to(device)\n",
    "        act_model.eval()\n",
    "        print(act, prop, act_model)\n",
    "        result_dict[act][prop].append(act_model)"
   ]
  },
  {
   "cell_type": "markdown",
   "metadata": {},
   "source": [
    "### Set Up LFP"
   ]
  },
  {
   "cell_type": "code",
   "execution_count": 6,
   "metadata": {},
   "outputs": [
    {
     "name": "stdout",
     "output_type": "stream",
     "text": [
      "negtanh LFP <lfprop.propagation.propagator_lxt.LFPEpsilonComposite object at 0x7f3c52e1f2d0>\n",
      "negtanh adaptedLFP <__main__.BothflipLFPEpsilonComposite object at 0x7f3dcc07add0>\n",
      "negrelu LFP <lfprop.propagation.propagator_lxt.LFPEpsilonComposite object at 0x7f3c53cfeb10>\n",
      "negrelu adaptedLFP <__main__.PosflipLFPEpsilonComposite object at 0x7f3c520198d0>\n",
      "neginnerrelu LFP <lfprop.propagation.propagator_lxt.LFPEpsilonComposite object at 0x7f3c40246610>\n",
      "neginnerrelu adaptedLFP <__main__.NegflipLFPEpsilonComposite object at 0x7f3c40246350>\n",
      "negstep LFP <lfprop.propagation.propagator_lxt.LFPEpsilonComposite object at 0x7f3c40246c90>\n",
      "negstep adaptedLFP <__main__.PosflipLFPEpsilonComposite object at 0x7f3c402469d0>\n"
     ]
    }
   ],
   "source": [
    "class BothflipLFPEpsilonComposite(propagator.ParameterizableComposite):\n",
    "    def __init__(self, epsilon=1e-6):\n",
    "        layer_map = {\n",
    "            \"last\": propagator.RuleGenerator( # Order matters!\n",
    "                propagator.LFPEpsilon,\n",
    "                epsilon=epsilon,\n",
    "                reverse_pos=False, reverse_neg=False\n",
    "            ),\n",
    "            ztypes.Activation: lrules.IdentityRule,\n",
    "            ztypes.Linear: propagator.RuleGenerator(\n",
    "                propagator.LFPEpsilon,\n",
    "                epsilon=epsilon,\n",
    "                reverse_pos=True, reverse_neg=True\n",
    "            ),\n",
    "        }\n",
    "\n",
    "        super().__init__(layer_map=layer_map)\n",
    "\n",
    "class NegflipLFPEpsilonComposite(propagator.ParameterizableComposite):\n",
    "    def __init__(self, epsilon=1e-6):\n",
    "        layer_map = {\n",
    "            \"last\": propagator.RuleGenerator( # Order matters!\n",
    "                propagator.LFPEpsilon,\n",
    "                epsilon=epsilon,\n",
    "                reverse_pos=False, reverse_neg=False\n",
    "            ),\n",
    "            ztypes.Activation: lrules.IdentityRule,\n",
    "            ztypes.Linear: propagator.RuleGenerator(\n",
    "                propagator.LFPEpsilon,\n",
    "                epsilon=epsilon,\n",
    "                reverse_pos=False, reverse_neg=True\n",
    "            ),\n",
    "        }\n",
    "\n",
    "        super().__init__(layer_map=layer_map)\n",
    "\n",
    "class PosflipLFPEpsilonComposite(propagator.ParameterizableComposite):\n",
    "    def __init__(self, epsilon=1e-6):\n",
    "        layer_map = {\n",
    "            \"last\": propagator.RuleGenerator( # Order matters!\n",
    "                propagator.LFPEpsilon,\n",
    "                epsilon=epsilon,\n",
    "                reverse_pos=False, reverse_neg=False\n",
    "            ),\n",
    "            ztypes.Activation: lrules.IdentityRule,\n",
    "            ztypes.Linear: propagator.RuleGenerator(\n",
    "                propagator.LFPEpsilon,\n",
    "                epsilon=epsilon,\n",
    "                reverse_pos=True, reverse_neg=False\n",
    "            ),\n",
    "        }\n",
    "\n",
    "        super().__init__(layer_map=layer_map)\n",
    "\n",
    "# Initialize the LFP Composite\n",
    "# Currently, only LFP-Epsilon is implemented. More composites may be added in the future.\n",
    "for act in activations:\n",
    "    if act in [\"negtanh\"]:\n",
    "        corr_prop_comp = BothflipLFPEpsilonComposite()\n",
    "    elif act in [\"neginnerrelu\"]:\n",
    "        corr_prop_comp = NegflipLFPEpsilonComposite()\n",
    "    elif act in [\"negrelu\", \"negstep\"]:\n",
    "        corr_prop_comp = PosflipLFPEpsilonComposite()\n",
    "    for prop in result_dict[act].keys():\n",
    "        if prop == \"LFP\":\n",
    "            prop_comp = propagator.LFPEpsilonComposite()\n",
    "        else:\n",
    "            prop_comp = corr_prop_comp\n",
    "        result_dict[act][prop].append(prop_comp)\n",
    "\n",
    "        print(act, prop, prop_comp)\n",
    "\n",
    "# Initialize the Reward Function.\n",
    "# Here we use the Reward Function suggested in the LFP-Paper, but check out other reward functions in ./lfp/rewards/reward_functions.py\n",
    "reward_func = rewards.SoftmaxLossReward(device)\n",
    "\n",
    "# LFP writes its updates into the .grad attribute of the model parameters, and can thus utilize standard torch optimizers\n",
    "for act in activations:\n",
    "    for prop in result_dict[act].keys():\n",
    "        act_optimizer = torch.optim.SGD(result_dict[act][prop][0].parameters(), lr=lr, momentum=momentum)\n",
    "        result_dict[act][prop].append(act_optimizer)"
   ]
  },
  {
   "cell_type": "markdown",
   "metadata": {},
   "source": [
    "### Set Up Simple Evaluation using torcheval"
   ]
  },
  {
   "cell_type": "code",
   "execution_count": 7,
   "metadata": {},
   "outputs": [],
   "source": [
    "def eval_model(model, loader):\n",
    "    \"\"\"\n",
    "    Evaluates the model on a single dataset\n",
    "    \"\"\"\n",
    "    eval_metrics = {\n",
    "        \"reward\": torcheval.metrics.Mean(device=device),\n",
    "        \"accuracy\": torcheval.metrics.MulticlassAccuracy(average=\"micro\", num_classes=10, k=1, device=device),\n",
    "    }\n",
    "\n",
    "    model.eval()\n",
    "\n",
    "    # Iterate over Data Loader\n",
    "    for index, (inputs, labels) in enumerate(loader):\n",
    "        inputs = inputs.to(device)\n",
    "        labels = torch.tensor(labels).to(device)\n",
    "\n",
    "        with torch.no_grad():\n",
    "            # Get model predictions\n",
    "            outputs = model(inputs)\n",
    "\n",
    "        with torch.set_grad_enabled(True):\n",
    "            # Get rewards\n",
    "            reward = reward_func(outputs, labels)\n",
    "\n",
    "        for k, v in eval_metrics.items():\n",
    "            if k == \"reward\":\n",
    "                eval_metrics[k].update(reward)\n",
    "            else:\n",
    "                eval_metrics[k].update(outputs, labels)\n",
    "\n",
    "    return_dict = {m: metric.compute().detach().cpu().numpy() for m, metric in eval_metrics.items()}\n",
    "\n",
    "    # Return evaluation\n",
    "    return return_dict"
   ]
  },
  {
   "cell_type": "markdown",
   "metadata": {},
   "source": [
    "### Training Loop"
   ]
  },
  {
   "cell_type": "code",
   "execution_count": 8,
   "metadata": {},
   "outputs": [
    {
     "name": "stderr",
     "output_type": "stream",
     "text": [
      "  0%|          | 0/469 [00:00<?, ?it/s]/tmp/ipykernel_165623/169862099.py:46: UserWarning: To copy construct from a tensor, it is recommended to use sourceTensor.clone().detach() or sourceTensor.clone().detach().requires_grad_(True), rather than torch.tensor(sourceTensor).\n",
      "  labels = torch.tensor(labels).to(device)\n",
      "/home/lweber/.cache/pypoetry/virtualenvs/lfprop-KukTaqIE-py3.11/lib/python3.11/site-packages/lxt/core.py:362: UserWarning: This functionality is not yet fully tested. Please check the model after removing the composite.\n",
      "  warn(\n",
      "100%|██████████| 469/469 [00:19<00:00, 23.79it/s]\n",
      "/tmp/ipykernel_165623/3989115218.py:15: UserWarning: To copy construct from a tensor, it is recommended to use sourceTensor.clone().detach() or sourceTensor.clone().detach().requires_grad_(True), rather than torch.tensor(sourceTensor).\n",
      "  labels = torch.tensor(labels).to(device)\n"
     ]
    },
    {
     "name": "stdout",
     "output_type": "stream",
     "text": [
      "Epoch 1/1: (Train Reward) -0.04; (Train Accuracy) 0.10; (Val Reward) -0.04; (Val Accuracy) 0.10\n"
     ]
    },
    {
     "name": "stderr",
     "output_type": "stream",
     "text": [
      "100%|██████████| 469/469 [00:19<00:00, 24.31it/s]\n"
     ]
    },
    {
     "name": "stdout",
     "output_type": "stream",
     "text": [
      "Epoch 1/1: (Train Reward) -0.00; (Train Accuracy) 0.95; (Val Reward) -0.00; (Val Accuracy) 0.95\n"
     ]
    },
    {
     "name": "stderr",
     "output_type": "stream",
     "text": [
      "100%|██████████| 469/469 [00:19<00:00, 23.97it/s]\n"
     ]
    },
    {
     "name": "stdout",
     "output_type": "stream",
     "text": [
      "Epoch 1/1: (Train Reward) -9.61; (Train Accuracy) 0.10; (Val Reward) -9.59; (Val Accuracy) 0.10\n"
     ]
    },
    {
     "name": "stderr",
     "output_type": "stream",
     "text": [
      "100%|██████████| 469/469 [00:17<00:00, 26.93it/s]\n"
     ]
    },
    {
     "name": "stdout",
     "output_type": "stream",
     "text": [
      "Epoch 1/1: (Train Reward) 0.01; (Train Accuracy) 0.91; (Val Reward) 0.01; (Val Accuracy) 0.91\n"
     ]
    },
    {
     "name": "stderr",
     "output_type": "stream",
     "text": [
      "100%|██████████| 469/469 [00:19<00:00, 24.37it/s]\n"
     ]
    },
    {
     "name": "stdout",
     "output_type": "stream",
     "text": [
      "Epoch 1/1: (Train Reward) -20.19; (Train Accuracy) 0.10; (Val Reward) -20.21; (Val Accuracy) 0.10\n"
     ]
    },
    {
     "name": "stderr",
     "output_type": "stream",
     "text": [
      "100%|██████████| 469/469 [00:18<00:00, 24.71it/s]\n"
     ]
    },
    {
     "name": "stdout",
     "output_type": "stream",
     "text": [
      "Epoch 1/1: (Train Reward) -0.00; (Train Accuracy) 0.95; (Val Reward) -0.00; (Val Accuracy) 0.95\n"
     ]
    },
    {
     "name": "stderr",
     "output_type": "stream",
     "text": [
      "100%|██████████| 469/469 [00:18<00:00, 25.23it/s]\n"
     ]
    },
    {
     "name": "stdout",
     "output_type": "stream",
     "text": [
      "Epoch 1/1: (Train Reward) -0.02; (Train Accuracy) 0.13; (Val Reward) -0.02; (Val Accuracy) 0.13\n"
     ]
    },
    {
     "name": "stderr",
     "output_type": "stream",
     "text": [
      "100%|██████████| 469/469 [00:19<00:00, 23.82it/s]\n"
     ]
    },
    {
     "name": "stdout",
     "output_type": "stream",
     "text": [
      "Epoch 1/1: (Train Reward) -0.01; (Train Accuracy) 0.09; (Val Reward) -0.01; (Val Accuracy) 0.10\n"
     ]
    }
   ],
   "source": [
    "def lfp_step(model, optimizer, propagation_composite, inputs, labels):\n",
    "    \"\"\"\n",
    "    Performs a single training step using LFP. This is quite similar to a standard gradient descent training loop.\n",
    "    \"\"\"\n",
    "    # Set Model to training mode\n",
    "    model.train()\n",
    "\n",
    "    with torch.enable_grad():\n",
    "        # Zero Optimizer\n",
    "        optimizer.zero_grad()\n",
    "\n",
    "        # This applies LFP Hooks/Functions (which depends on whether lxt or zennit backend is used)\n",
    "        with propagation_composite.context(model) as modified:\n",
    "            inputs = inputs.detach().requires_grad_(True)\n",
    "            outputs = modified(inputs)\n",
    "\n",
    "            # Calculate reward\n",
    "            # Do like this to avoid tensors being kept in memory\n",
    "            reward = torch.from_numpy(reward_func(outputs, labels).detach().cpu().numpy()).to(device)\n",
    "\n",
    "            # Calculate LFP and write into .feedback attribute of parameters\n",
    "            torch.autograd.grad((outputs,), (inputs,), grad_outputs=(reward,), retain_graph=False)[0]\n",
    "\n",
    "            # Write LFP Values into .grad attributes. Note the negative sign: LFP requires maximization instead of minimization like gradient descent\n",
    "            for name, param in model.named_parameters():\n",
    "                param.grad = -param.feedback\n",
    "\n",
    "            # Update Clipping. Training may become unstable otherwise, especially in small models with large learning rates.\n",
    "            # In larger models (e.g., VGG, ResNet), where smaller learning rates are generally utilized, not clipping updates may result in better performance.\n",
    "            torch.nn.utils.clip_grad_norm_(model.parameters(), 3.0, 2.0)\n",
    "\n",
    "            # Optimization step\n",
    "            optimizer.step()\n",
    "\n",
    "    # Set Model back to eval mode\n",
    "    model.eval()\n",
    "\n",
    "\n",
    "# Training Loop\n",
    "def train(model, optimizer, propagation_composite):\n",
    "    for epoch in range(epochs):\n",
    "        with tqdm(total=len(training_loader)) as pbar:\n",
    "            # Iterate over Data Loader\n",
    "            for index, (inputs, labels) in enumerate(training_loader):\n",
    "                inputs = inputs.to(device)\n",
    "                labels = torch.tensor(labels).to(device)\n",
    "\n",
    "                # Perform Update Step\n",
    "                lfp_step(model, optimizer, propagation_composite, inputs, labels)\n",
    "\n",
    "                # Update Progress Bar\n",
    "                pbar.update(1)\n",
    "\n",
    "        # Evaluate and print performance after every epoch\n",
    "        eval_stats_train = eval_model(model, training_loader)\n",
    "        eval_stats_val = eval_model(model, validation_loader)\n",
    "        print(\n",
    "            \"Epoch {}/{}: (Train Reward) {:.2f}; (Train Accuracy) {:.2f}; (Val Reward) {:.2f}; (Val Accuracy) {:.2f}\".format(\n",
    "                epoch + 1,\n",
    "                epochs,\n",
    "                float(np.mean(eval_stats_train[\"reward\"])),\n",
    "                float(eval_stats_train[\"accuracy\"]),\n",
    "                float(np.mean(eval_stats_val[\"reward\"])),\n",
    "                float(eval_stats_val[\"accuracy\"]),\n",
    "            )\n",
    "        )\n",
    "\n",
    "        return eval_stats_val\n",
    "\n",
    "\n",
    "for act in activations:\n",
    "    for prop in result_dict[act].keys():\n",
    "        eval_stats_val = train(result_dict[act][prop][0], result_dict[act][prop][2], result_dict[act][prop][1])\n",
    "        result_dict[act][prop].append(float(eval_stats_val[\"accuracy\"]))\n"
   ]
  },
  {
   "cell_type": "markdown",
   "metadata": {},
   "source": [
    "### Plot"
   ]
  },
  {
   "cell_type": "code",
   "execution_count": null,
   "metadata": {},
   "outputs": [
    {
     "name": "stderr",
     "output_type": "stream",
     "text": [
      "/tmp/ipykernel_165623/104089506.py:25: MatplotlibDeprecationWarning: The get_cmap function was deprecated in Matplotlib 3.7 and will be removed two minor releases later. Use ``matplotlib.colormaps[name]`` or ``matplotlib.colormaps.get_cmap(obj)`` instead.\n",
      "  palette = cm.get_cmap(\"Set1\")(colors)\n"
     ]
    },
    {
     "data": {
      "image/png": "[encoded data removed]",
      "text/plain": [
       "<Figure size 600x300 with 1 Axes>"
      ]
     },
     "metadata": {},
     "output_type": "display_data"
    }
   ],
   "source": [
    "# Plot Settings\n",
    "# Set font properties.\n",
    "import matplotlib.pyplot as plt\n",
    "import matplotlib.font_manager as font_manager\n",
    "import matplotlib.cm as cm\n",
    "import copy\n",
    "font_path = plt.matplotlib.get_data_path() + \"/fonts/ttf/cmr10.ttf\"\n",
    "cmfont = font_manager.FontProperties(fname=font_path)\n",
    "plt.rcParams[\"font.family\"] = \"serif\"\n",
    "plt.rcParams[\"font.serif\"] = cmfont.get_name()\n",
    "plt.rcParams[\"mathtext.fontset\"] = \"cm\"\n",
    "\n",
    "# Set font size.\n",
    "plt.rcParams[\"font.size\"] = 15\n",
    "\n",
    "# Disable unicode minus.\n",
    "plt.rcParams[\"axes.unicode_minus\"] = False\n",
    "\n",
    "# Use mathtext for axes formatters.\n",
    "plt.rcParams[\"axes.formatter.use_mathtext\"] = True\n",
    "\n",
    "plt.rcParams['axes.linewidth'] = 1.5\n",
    "\n",
    "colors = np.linspace(0, 1, 9)\n",
    "palette = cm.get_cmap(\"Set1\")(colors)\n",
    "palette_tmp = copy.deepcopy(palette)\n",
    "palette[0] = palette_tmp[2]\n",
    "palette[1] = palette_tmp[0]\n",
    "palette[2] = palette_tmp[1]\n",
    "pastel = 0.3\n",
    "palette = (1-pastel)*palette+pastel*np.ones((9, 4))\n",
    "\n",
    "fig, ax = plt.subplots(1, 1, figsize=(6, 3))\n",
    "\n",
    "HATCHES = {\n",
    "    propagator.LFPEpsilonComposite: \".\",\n",
    "    BothflipLFPEpsilonComposite: \"/\",\n",
    "    NegflipLFPEpsilonComposite: \"--\",\n",
    "    PosflipLFPEpsilonComposite: \"xx\",\n",
    "}\n",
    "\n",
    "ACTS = {\n",
    "    \"negtanh\": \"NegTanh\", \n",
    "    \"negrelu\": \"NegReLU\", \n",
    "    \"neginnerrelu\": \"NegInnerReLU\", \n",
    "    \"negstep\": \"NegHeaviside\"\n",
    "}\n",
    "\n",
    "barloc = 0.5\n",
    "xlabels = []\n",
    "for a, act in enumerate(activations):\n",
    "    for p, prop in enumerate(list(result_dict[act].keys())):\n",
    "        sel_hatch = None\n",
    "        for h, hatch in HATCHES.items():\n",
    "            if isinstance(result_dict[act][prop][1], h):\n",
    "                sel_hatch = hatch\n",
    "        ax.bar(barloc, result_dict[act][prop][-1], color=palette[a], hatch=sel_hatch)\n",
    "        xlabels.append(f\"{ACTS[act]} [{prop}]\")\n",
    "        barloc += 1\n",
    "\n",
    "linelocs = [0.0, 0.2, 0.4, 0.6, 0.8, 1.0]\n",
    "ax.hlines(linelocs, xmin=-1, xmax=400, color=(0.5, 0.5, 0.5, 1), linewidth=1.5, zorder=0)\n",
    "\n",
    "ax.set_ylim([0.0, 1.0])\n",
    "ax.set_xlim([0, barloc-0.5])\n",
    "\n",
    "ax.set_ylabel(f\"Test Accuracy [%]\")\n",
    "ax.set_xlabel(\"\")\n",
    "\n",
    "ax.set_yticks([0.0, 0.2, 0.4, 0.6, 0.8, 1.0])\n",
    "ax.set_yticklabels([0, 20, 40, 60, 80, 100])\n",
    "\n",
    "ax.set_xticks(np.arange(0.5, barloc-0.5, 1.0))\n",
    "ax.set_xticklabels(xlabels, rotation=90)\n",
    "\n",
    "ax.tick_params(length=6, width=2)\n",
    "plt.show()"
   ]
  }
 ],
 "metadata": {
  "kernelspec": {
   "display_name": "lfprop-KukTaqIE-py3.11 (3.11.11)",
   "language": "python",
   "name": "python3"
  },
  "language_info": {
   "codemirror_mode": {
    "name": "ipython",
    "version": 3
   },
   "file_extension": ".py",
   "mimetype": "text/x-python",
   "name": "python",
   "nbconvert_exporter": "python",
   "pygments_lexer": "ipython3",
   "version": "3.11.11"
  }
 },
 "nbformat": 4,
 "nbformat_minor": 2
}
