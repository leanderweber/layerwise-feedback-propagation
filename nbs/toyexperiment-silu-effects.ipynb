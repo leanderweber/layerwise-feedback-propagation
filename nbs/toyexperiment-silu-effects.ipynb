{
 "cells": [
  {
   "cell_type": "markdown",
   "metadata": {},
   "source": [
    "## Experiment to Visualize LFP Decision Boundaries on Toy Data"
   ]
  },
  {
   "cell_type": "markdown",
   "metadata": {},
   "source": [
    "### Imports"
   ]
  },
  {
   "cell_type": "code",
   "execution_count": 1,
   "metadata": {},
   "outputs": [],
   "source": [
    "import click\n",
    "import os\n",
    "import joblib\n",
    "import json\n",
    "import random\n",
    "import copy\n",
    "import logging\n",
    "from tqdm import tqdm\n",
    "\n",
    "# os.environ['CUDA_LAUNCH_BLOCKING'] = \"1\"\n",
    "\n",
    "import matplotlib.pyplot as plt\n",
    "import numpy as np\n",
    "import torch\n",
    "import os\n",
    "\n",
    "from lfp.model import models as models\n",
    "from lfp.data import transforms as transforms\n",
    "from lfp.data import datasets as datasets\n",
    "from lfp.data import dataloaders as dataloaders\n",
    "from lfp.propagation import propagator_lxt as propagator\n",
    "from lfp.evaluation import evaluate as evaluate\n",
    "from lfp.rewards import rewards as rewards\n",
    "from lfp.utils.utils import register_backward_normhooks"
   ]
  },
  {
   "cell_type": "markdown",
   "metadata": {},
   "source": [
    "### Experiment Variables"
   ]
  },
  {
   "cell_type": "code",
   "execution_count": 2,
   "metadata": {},
   "outputs": [],
   "source": [
    "dataset_name = \"blobs\"  # swirls, circles, blobs # DONE: none\n",
    "n_channels = 2\n",
    "device = torch.device(\"cuda\" if torch.cuda.is_available() else \"cpu\")\n",
    "batch_size = 1\n",
    "lr = 1.0\n",
    "momentum = 0.0\n",
    "reward_names = [\"maximizesingleneuronreward\", \"minimizesingleneuronreward\"]\n",
    "loss_names = [\"maximizesingleneuronloss\", \"minimizesingleneuronloss\"]\n",
    "norm_backward = False\n",
    "epochs = 10\n",
    "n_datasets = 1\n",
    "datasample_versions = [[([[1.0, 1.0]], [1])], [([[1.0, 1.0]], [1])]]\n",
    "weight_initializations = [(0.5, 0.5), (-1.0, -1.0)]\n",
    "\n",
    "savepath = \"<path to save results in>\"\n",
    "data_path = \"<path where dataset is saved>\"\n",
    "\n",
    "retrain_models = True\n",
    "redraw_data = True"
   ]
  },
  {
   "cell_type": "markdown",
   "metadata": {},
   "source": [
    "### Training Utility"
   ]
  },
  {
   "cell_type": "code",
   "execution_count": 3,
   "metadata": {},
   "outputs": [],
   "source": [
    "class SingleNeuronModel(torch.nn.Module):\n",
    "    \"\"\"\n",
    "    SingleNeuronModel\n",
    "    \"\"\"\n",
    "\n",
    "    def __init__(self, n_channels, activation_kwargs=None):\n",
    "        super().__init__()\n",
    "\n",
    "        if activation_kwargs is None:\n",
    "            activation_kwargs = {}\n",
    "\n",
    "        # Classifier\n",
    "        self.classifier = torch.nn.Sequential(\n",
    "            torch.nn.Linear(n_channels, 1, bias=False),\n",
    "        )\n",
    "        self.act = torch.nn.SiLU()\n",
    "\n",
    "    def forward(self, x):\n",
    "        \"\"\"\n",
    "        Forwards input through network\n",
    "        \"\"\"\n",
    "\n",
    "        # Forward through network\n",
    "        x = torch.flatten(x, 1)\n",
    "        self.pre_act_x = self.classifier(x)\n",
    "        self.post_act_x = self.act(self.pre_act_x)\n",
    "\n",
    "        # Return output\n",
    "        return self.post_act_x"
   ]
  },
  {
   "cell_type": "code",
   "execution_count": 4,
   "metadata": {},
   "outputs": [],
   "source": [
    "class Trainer:\n",
    "    def __init__(\n",
    "        self,\n",
    "        model,\n",
    "        train_data,\n",
    "        optimizer,\n",
    "        criterion,\n",
    "        device,\n",
    "        lfp_composite=None,\n",
    "        norm_backward=False,\n",
    "    ):\n",
    "        self.model = model\n",
    "        self.train_data = train_data\n",
    "        self.optimizer = optimizer\n",
    "        self.criterion = criterion\n",
    "        self.device = device\n",
    "        self.lfp_composite = lfp_composite\n",
    "        self.norm_backward = norm_backward\n",
    "        self.global_epoch = 0\n",
    "        self.global_step = 0\n",
    "\n",
    "        self.param_log = []\n",
    "        self.pre_act_output_log = []\n",
    "        self.post_act_output_log = []\n",
    "\n",
    "    def grad_step(self, inputs, labels):\n",
    "        # Backward norm\n",
    "        if self.norm_backward:\n",
    "            norm_handles = register_backward_normhooks(self.model)\n",
    "        else:\n",
    "            norm_handles = []\n",
    "\n",
    "        self.model.train()\n",
    "        with torch.enable_grad():\n",
    "            self.optimizer.zero_grad()\n",
    "            out = self.model(inputs)\n",
    "\n",
    "            reward = self.criterion(out, labels)\n",
    "            reward.backward()\n",
    "\n",
    "            self.optimizer.step()\n",
    "\n",
    "        self.model.eval()\n",
    "\n",
    "        for handle in norm_handles:\n",
    "            handle.remove()\n",
    "\n",
    "        self.global_step += 1\n",
    "\n",
    "    def lfp_step(self, inputs, labels):\n",
    "        self.model.train()\n",
    "\n",
    "        with torch.enable_grad():\n",
    "            self.optimizer.zero_grad()\n",
    "            with self.lfp_composite.context(self.model) as modified:\n",
    "                inputs = inputs.detach().requires_grad_(True)\n",
    "                outputs = modified(inputs)\n",
    "\n",
    "                # Calculate reward\n",
    "                # Do like this to avoid tensors being kept in memory\n",
    "                reward = torch.from_numpy(\n",
    "                    self.criterion(outputs, labels).detach().cpu().numpy()\n",
    "                ).to(device)\n",
    "\n",
    "                # Write LFP Values into .grad attributes\n",
    "                input_reward = torch.autograd.grad(\n",
    "                    (outputs,), (inputs,), grad_outputs=(reward,), retain_graph=False\n",
    "                )[0]\n",
    "\n",
    "                for name, param in self.model.named_parameters():\n",
    "                    param.grad = -param.feedback\n",
    "\n",
    "                self.optimizer.step()\n",
    "\n",
    "        self.model.eval()\n",
    "\n",
    "        self.global_step += 1\n",
    "\n",
    "    def train(\n",
    "        self,\n",
    "        epochs,\n",
    "        verbose=False,\n",
    "        savepath=None,\n",
    "        savename=\"ckpt\",\n",
    "        saveappendage=\"last\",\n",
    "        fromscratch=False,\n",
    "    ):\n",
    "\n",
    "        if not fromscratch and savepath:\n",
    "            self.load(savepath, savename, saveappendage)\n",
    "\n",
    "        if verbose:\n",
    "\n",
    "            (inputs, labels) = self.train_data[0]\n",
    "            inputs = torch.tensor(inputs).to(device)\n",
    "            labels = torch.tensor(labels).to(device)\n",
    "\n",
    "            print(inputs, labels)\n",
    "\n",
    "            output = self.model(inputs)\n",
    "            self.pre_act_output_log.append(\n",
    "                self.model.pre_act_x.view(-1).detach().cpu().numpy()\n",
    "            )\n",
    "            self.post_act_output_log.append(output.view(-1).detach().cpu().numpy())\n",
    "\n",
    "            pred = output > 0\n",
    "            print(f\"Preds: {pred}, Labels: {labels}\")\n",
    "\n",
    "        self.param_log.append(\n",
    "            [p for p in self.model.parameters()][0].data.view(-1).detach().cpu().numpy()\n",
    "        )\n",
    "\n",
    "        for epoch in range(epochs):\n",
    "            with tqdm(total=len(self.train_data), disable=not verbose) as pbar:\n",
    "                for index, (inputs, labels) in enumerate(self.train_data):\n",
    "\n",
    "                    inputs = torch.tensor(inputs).to(device)\n",
    "                    labels = torch.tensor(labels).to(device)\n",
    "\n",
    "                    print(inputs, labels)\n",
    "\n",
    "                    if self.lfp_composite is None:\n",
    "                        # Grad Step\n",
    "                        self.grad_step(inputs, labels)\n",
    "                    else:\n",
    "                        # LFP Step\n",
    "                        self.lfp_step(inputs, labels)\n",
    "\n",
    "                    pbar.update(1)\n",
    "                    self.param_log.append(\n",
    "                        [p for p in self.model.parameters()][0]\n",
    "                        .data.view(-1)\n",
    "                        .detach()\n",
    "                        .cpu()\n",
    "                        .numpy()\n",
    "                    )\n",
    "                    output = self.model(inputs)\n",
    "                    self.pre_act_output_log.append(\n",
    "                        self.model.pre_act_x.view(-1).detach().cpu().numpy()\n",
    "                    )\n",
    "                    self.post_act_output_log.append(\n",
    "                        output.view(-1).detach().cpu().numpy()\n",
    "                    )\n",
    "\n",
    "                    if verbose:\n",
    "                        pred = output > 0\n",
    "                        print(f\"Preds: {pred}, Labels: {labels}\")\n",
    "\n",
    "            self.global_epoch += 1\n",
    "\n",
    "            if savepath:\n",
    "                self.save(savepath, savename, \"last\")\n",
    "\n",
    "    def save(self, savepath, savename, saveappendage):\n",
    "        checkpoint = {\n",
    "            \"epoch\": self.global_epoch,\n",
    "            \"step\": self.global_step,\n",
    "            \"random_state\": {\n",
    "                \"torch\": torch.get_rng_state(),\n",
    "                \"cuda\": torch.cuda.get_rng_state(self.device),\n",
    "                \"numpy\": np.random.get_state(),\n",
    "                \"random\": random.getstate(),\n",
    "            },\n",
    "        }\n",
    "        if self.model:\n",
    "            checkpoint[\"model\"] = self.model.state_dict()\n",
    "        if self.optimizer:\n",
    "            checkpoint[\"optimizer\"] = self.optimizer.state_dict()\n",
    "        if self.param_log:\n",
    "            checkpoint[\"param_log\"] = self.param_log\n",
    "        if self.pre_act_output_log:\n",
    "            checkpoint[\"pre_act_output_log\"] = self.pre_act_output_log\n",
    "        if self.post_act_output_log:\n",
    "            checkpoint[\"post_act_output_log\"] = self.post_act_output_log\n",
    "\n",
    "        torch.save(checkpoint, os.path.join(savepath, f\"{savename}-{saveappendage}.pt\"))\n",
    "\n",
    "    def load(self, savepath, savename, saveappendage):\n",
    "        if os.path.exists(os.path.join(savepath, f\"{savename}-{saveappendage}.pt\")):\n",
    "            checkpoint = torch.load(\n",
    "                os.path.join(savepath, f\"{savename}-{saveappendage}.pt\")\n",
    "            )\n",
    "            if self.model:\n",
    "                self.model.load_state_dict(checkpoint[\"model\"])\n",
    "            if self.optimizer:\n",
    "                self.optimizer.load_state_dict(checkpoint[\"optimizer\"])\n",
    "            if \"param_log\" in checkpoint:\n",
    "                self.param_log = checkpoint[\"param_log\"]\n",
    "            if \"pre_act_output_log\" in checkpoint:\n",
    "                self.pre_act_output_log = checkpoint[\"pre_act_output_log\"]\n",
    "            if \"post_act_output_log\" in checkpoint:\n",
    "                self.post_act_output_log = checkpoint[\"post_act_output_log\"]\n",
    "            self.global_epoch = checkpoint[\"epoch\"]\n",
    "            self.global_step = checkpoint[\"step\"]\n",
    "\n",
    "            torch.set_rng_state(checkpoint[\"random_state\"][\"torch\"])\n",
    "            torch.cuda.set_rng_state(checkpoint[\"random_state\"][\"cuda\"], device)\n",
    "            np.random.set_state(checkpoint[\"random_state\"][\"numpy\"])\n",
    "            random.setstate(checkpoint[\"random_state\"][\"random\"])\n",
    "\n",
    "        else:\n",
    "            print(\"No checkpoint found... not loading anything.\")"
   ]
  },
  {
   "cell_type": "markdown",
   "metadata": {},
   "source": [
    "### Paths, Dataset, Model"
   ]
  },
  {
   "cell_type": "code",
   "execution_count": 5,
   "metadata": {
    "metadata": {}
   },
   "outputs": [],
   "source": [
    "os.makedirs(data_path, exist_ok=True)\n",
    "\n",
    "propagation_composites = {\n",
    "    \"lfp-epsilon\": propagator.LFPEpsilonComposite(\n",
    "        norm_backward=norm_backward,\n",
    "    ),\n",
    "    \"vanilla-gradient\": None,\n",
    "}\n",
    "\n",
    "if retrain_models or not os.path.exists(\n",
    "    os.path.join(savepath, \"init-ckpts\", f\"initmodel-0.pt\")\n",
    "):\n",
    "    init_models = [SingleNeuronModel(2).to(device) for w in weight_initializations]\n",
    "    for w, w_in in enumerate(weight_initializations):\n",
    "        for p in init_models[w].parameters():\n",
    "            p.data.view(-1)[0] = w_in[0]\n",
    "            p.data.view(-1)[1] = w_in[1]\n",
    "    os.makedirs(os.path.join(savepath, \"init-ckpts\"), exist_ok=True)\n",
    "    for m, model in enumerate(init_models):\n",
    "        torch.save(\n",
    "            model.state_dict(),\n",
    "            os.path.join(savepath, \"init-ckpts\", f\"initmodel-{m}.pt\"),\n",
    "        )\n",
    "else:\n",
    "    init_models = [SingleNeuronModel(2).to(device) for w in weight_initializations]\n",
    "    for m, model in enumerate(init_models):\n",
    "        statedict = torch.load(\n",
    "            os.path.join(savepath, \"init-ckpts\", f\"initmodel-{m}.pt\")\n",
    "        )\n",
    "        model.load_state_dict(statedict)\n",
    "\n",
    "trainers = {}\n",
    "for r, reward_name in enumerate(reward_names):\n",
    "    loss_name = loss_names[r]\n",
    "    trainers[r] = {}\n",
    "    for name, prop_comp in propagation_composites.items():\n",
    "        trainers[r][name] = []\n",
    "        for w, weight_init in enumerate(weight_initializations):\n",
    "            model = copy.deepcopy(init_models[w])\n",
    "            trainers[r][name].append(\n",
    "                Trainer(\n",
    "                    model=model,\n",
    "                    train_data=datasample_versions[w],\n",
    "                    optimizer=torch.optim.SGD(\n",
    "                        model.parameters(), lr=lr, momentum=momentum\n",
    "                    ),\n",
    "                    criterion=(\n",
    "                        rewards.get_reward(reward_name, device)\n",
    "                        if prop_comp is not None\n",
    "                        else rewards.get_reward(loss_name, device)\n",
    "                    ),\n",
    "                    device=device,\n",
    "                    lfp_composite=prop_comp,\n",
    "                    norm_backward=norm_backward,\n",
    "                )\n",
    "            )"
   ]
  },
  {
   "cell_type": "code",
   "execution_count": 7,
   "metadata": {
    "metadata": {}
   },
   "outputs": [
    {
     "name": "stdout",
     "output_type": "stream",
     "text": [
      "Reward 0...\n",
      "lfp-epsilon\n",
      "(0.5, 0.5): Trainer 0\n",
      "tensor([[1., 1.]], device='cuda:0') tensor([1], device='cuda:0')\n",
      "Preds: tensor([[True]], device='cuda:0'), Labels: tensor([1], device='cuda:0')\n"
     ]
    },
    {
     "name": "stderr",
     "output_type": "stream",
     "text": [
      "100%|██████████| 1/1 [00:00<00:00, 17.69it/s]"
     ]
    },
    {
     "name": "stdout",
     "output_type": "stream",
     "text": [
      "tensor([[1., 1.]], device='cuda:0') tensor([1], device='cuda:0')\n",
      "Preds: tensor([[True]], device='cuda:0'), Labels: tensor([1], device='cuda:0')\n"
     ]
    },
    {
     "name": "stderr",
     "output_type": "stream",
     "text": [
      "\n",
      "100%|██████████| 1/1 [00:00<00:00, 229.79it/s]\n"
     ]
    },
    {
     "name": "stdout",
     "output_type": "stream",
     "text": [
      "tensor([[1., 1.]], device='cuda:0') tensor([1], device='cuda:0')\n",
      "Preds: tensor([[True]], device='cuda:0'), Labels: tensor([1], device='cuda:0')\n"
     ]
    },
    {
     "name": "stderr",
     "output_type": "stream",
     "text": [
      "100%|██████████| 1/1 [00:00<00:00, 204.52it/s]\n"
     ]
    },
    {
     "name": "stdout",
     "output_type": "stream",
     "text": [
      "tensor([[1., 1.]], device='cuda:0') tensor([1], device='cuda:0')\n",
      "Preds: tensor([[True]], device='cuda:0'), Labels: tensor([1], device='cuda:0')\n"
     ]
    },
    {
     "name": "stderr",
     "output_type": "stream",
     "text": [
      "100%|██████████| 1/1 [00:00<00:00, 236.17it/s]\n"
     ]
    },
    {
     "name": "stdout",
     "output_type": "stream",
     "text": [
      "tensor([[1., 1.]], device='cuda:0') tensor([1], device='cuda:0')\n",
      "Preds: tensor([[True]], device='cuda:0'), Labels: tensor([1], device='cuda:0')\n"
     ]
    },
    {
     "name": "stderr",
     "output_type": "stream",
     "text": [
      "100%|██████████| 1/1 [00:00<00:00, 238.58it/s]\n"
     ]
    },
    {
     "name": "stdout",
     "output_type": "stream",
     "text": [
      "tensor([[1., 1.]], device='cuda:0') tensor([1], device='cuda:0')\n",
      "Preds: tensor([[True]], device='cuda:0'), Labels: tensor([1], device='cuda:0')\n"
     ]
    },
    {
     "name": "stderr",
     "output_type": "stream",
     "text": [
      "100%|██████████| 1/1 [00:00<00:00, 235.09it/s]\n"
     ]
    },
    {
     "name": "stdout",
     "output_type": "stream",
     "text": [
      "tensor([[1., 1.]], device='cuda:0') tensor([1], device='cuda:0')\n",
      "Preds: tensor([[True]], device='cuda:0'), Labels: tensor([1], device='cuda:0')\n"
     ]
    },
    {
     "name": "stderr",
     "output_type": "stream",
     "text": [
      "100%|██████████| 1/1 [00:00<00:00, 220.83it/s]\n"
     ]
    },
    {
     "name": "stdout",
     "output_type": "stream",
     "text": [
      "tensor([[1., 1.]], device='cuda:0') tensor([1], device='cuda:0')\n",
      "Preds: tensor([[True]], device='cuda:0'), Labels: tensor([1], device='cuda:0')\n"
     ]
    },
    {
     "name": "stderr",
     "output_type": "stream",
     "text": [
      "100%|██████████| 1/1 [00:00<00:00, 158.42it/s]\n"
     ]
    },
    {
     "name": "stdout",
     "output_type": "stream",
     "text": [
      "tensor([[1., 1.]], device='cuda:0') tensor([1], device='cuda:0')\n",
      "Preds: tensor([[True]], device='cuda:0'), Labels: tensor([1], device='cuda:0')\n"
     ]
    },
    {
     "name": "stderr",
     "output_type": "stream",
     "text": [
      "100%|██████████| 1/1 [00:00<00:00, 207.27it/s]\n"
     ]
    },
    {
     "name": "stdout",
     "output_type": "stream",
     "text": [
      "tensor([[1., 1.]], device='cuda:0') tensor([1], device='cuda:0')\n",
      "Preds: tensor([[True]], device='cuda:0'), Labels: tensor([1], device='cuda:0')\n"
     ]
    },
    {
     "name": "stderr",
     "output_type": "stream",
     "text": [
      "100%|██████████| 1/1 [00:00<00:00, 220.64it/s]\n"
     ]
    },
    {
     "name": "stdout",
     "output_type": "stream",
     "text": [
      "tensor([[1., 1.]], device='cuda:0') tensor([1], device='cuda:0')\n",
      "Preds: tensor([[True]], device='cuda:0'), Labels: tensor([1], device='cuda:0')\n",
      "(-1.0, -1.0): Trainer 1\n",
      "tensor([[1., 1.]], device='cuda:0') tensor([1], device='cuda:0')\n",
      "Preds: tensor([[False]], device='cuda:0'), Labels: tensor([1], device='cuda:0')\n"
     ]
    },
    {
     "name": "stderr",
     "output_type": "stream",
     "text": [
      "100%|██████████| 1/1 [00:00<00:00, 216.47it/s]\n"
     ]
    },
    {
     "name": "stdout",
     "output_type": "stream",
     "text": [
      "tensor([[1., 1.]], device='cuda:0') tensor([1], device='cuda:0')\n",
      "Preds: tensor([[False]], device='cuda:0'), Labels: tensor([1], device='cuda:0')\n"
     ]
    },
    {
     "name": "stderr",
     "output_type": "stream",
     "text": [
      "100%|██████████| 1/1 [00:00<00:00, 138.67it/s]\n"
     ]
    },
    {
     "name": "stdout",
     "output_type": "stream",
     "text": [
      "tensor([[1., 1.]], device='cuda:0') tensor([1], device='cuda:0')\n",
      "Preds: tensor([[False]], device='cuda:0'), Labels: tensor([1], device='cuda:0')\n"
     ]
    },
    {
     "name": "stderr",
     "output_type": "stream",
     "text": [
      "100%|██████████| 1/1 [00:00<00:00, 220.87it/s]\n"
     ]
    },
    {
     "name": "stdout",
     "output_type": "stream",
     "text": [
      "tensor([[1., 1.]], device='cuda:0') tensor([1], device='cuda:0')\n",
      "Preds: tensor([[False]], device='cuda:0'), Labels: tensor([1], device='cuda:0')\n"
     ]
    },
    {
     "name": "stderr",
     "output_type": "stream",
     "text": [
      "100%|██████████| 1/1 [00:00<00:00, 216.36it/s]\n"
     ]
    },
    {
     "name": "stdout",
     "output_type": "stream",
     "text": [
      "tensor([[1., 1.]], device='cuda:0') tensor([1], device='cuda:0')\n",
      "Preds: tensor([[True]], device='cuda:0'), Labels: tensor([1], device='cuda:0')\n"
     ]
    },
    {
     "name": "stderr",
     "output_type": "stream",
     "text": [
      "100%|██████████| 1/1 [00:00<00:00, 217.16it/s]\n"
     ]
    },
    {
     "name": "stdout",
     "output_type": "stream",
     "text": [
      "tensor([[1., 1.]], device='cuda:0') tensor([1], device='cuda:0')\n",
      "Preds: tensor([[True]], device='cuda:0'), Labels: tensor([1], device='cuda:0')\n"
     ]
    },
    {
     "name": "stderr",
     "output_type": "stream",
     "text": [
      "100%|██████████| 1/1 [00:00<00:00, 213.53it/s]\n"
     ]
    },
    {
     "name": "stdout",
     "output_type": "stream",
     "text": [
      "tensor([[1., 1.]], device='cuda:0') tensor([1], device='cuda:0')\n",
      "Preds: tensor([[True]], device='cuda:0'), Labels: tensor([1], device='cuda:0')\n"
     ]
    },
    {
     "name": "stderr",
     "output_type": "stream",
     "text": [
      "100%|██████████| 1/1 [00:00<00:00, 212.18it/s]\n"
     ]
    },
    {
     "name": "stdout",
     "output_type": "stream",
     "text": [
      "tensor([[1., 1.]], device='cuda:0') tensor([1], device='cuda:0')\n",
      "Preds: tensor([[True]], device='cuda:0'), Labels: tensor([1], device='cuda:0')\n"
     ]
    },
    {
     "name": "stderr",
     "output_type": "stream",
     "text": [
      "  0%|          | 0/1 [00:00<?, ?it/s]"
     ]
    },
    {
     "name": "stdout",
     "output_type": "stream",
     "text": [
      "tensor([[1., 1.]], device='cuda:0') tensor([1], device='cuda:0')\n"
     ]
    },
    {
     "name": "stderr",
     "output_type": "stream",
     "text": [
      "100%|██████████| 1/1 [00:00<00:00, 192.55it/s]\n"
     ]
    },
    {
     "name": "stdout",
     "output_type": "stream",
     "text": [
      "Preds: tensor([[True]], device='cuda:0'), Labels: tensor([1], device='cuda:0')\n"
     ]
    },
    {
     "name": "stderr",
     "output_type": "stream",
     "text": [
      "100%|██████████| 1/1 [00:00<00:00, 215.11it/s]\n"
     ]
    },
    {
     "name": "stdout",
     "output_type": "stream",
     "text": [
      "tensor([[1., 1.]], device='cuda:0') tensor([1], device='cuda:0')\n",
      "Preds: tensor([[True]], device='cuda:0'), Labels: tensor([1], device='cuda:0')\n"
     ]
    },
    {
     "name": "stderr",
     "output_type": "stream",
     "text": [
      "100%|██████████| 1/1 [00:00<00:00, 209.33it/s]\n"
     ]
    },
    {
     "name": "stdout",
     "output_type": "stream",
     "text": [
      "tensor([[1., 1.]], device='cuda:0') tensor([1], device='cuda:0')\n",
      "Preds: tensor([[True]], device='cuda:0'), Labels: tensor([1], device='cuda:0')\n",
      "vanilla-gradient\n",
      "(0.5, 0.5): Trainer 0\n",
      "tensor([[1., 1.]], device='cuda:0') tensor([1], device='cuda:0')\n",
      "Preds: tensor([[True]], device='cuda:0'), Labels: tensor([1], device='cuda:0')\n"
     ]
    },
    {
     "name": "stderr",
     "output_type": "stream",
     "text": [
      "100%|██████████| 1/1 [00:00<00:00, 49.69it/s]\n"
     ]
    },
    {
     "name": "stdout",
     "output_type": "stream",
     "text": [
      "tensor([[1., 1.]], device='cuda:0') tensor([1], device='cuda:0')\n",
      "Preds: tensor([[True]], device='cuda:0'), Labels: tensor([1], device='cuda:0')\n"
     ]
    },
    {
     "name": "stderr",
     "output_type": "stream",
     "text": [
      "100%|██████████| 1/1 [00:00<00:00, 166.11it/s]\n"
     ]
    },
    {
     "name": "stdout",
     "output_type": "stream",
     "text": [
      "tensor([[1., 1.]], device='cuda:0') tensor([1], device='cuda:0')\n",
      "Preds: tensor([[True]], device='cuda:0'), Labels: tensor([1], device='cuda:0')\n"
     ]
    },
    {
     "name": "stderr",
     "output_type": "stream",
     "text": [
      "100%|██████████| 1/1 [00:00<00:00, 281.19it/s]\n"
     ]
    },
    {
     "name": "stdout",
     "output_type": "stream",
     "text": [
      "tensor([[1., 1.]], device='cuda:0') tensor([1], device='cuda:0')\n",
      "Preds: tensor([[True]], device='cuda:0'), Labels: tensor([1], device='cuda:0')\n"
     ]
    },
    {
     "name": "stderr",
     "output_type": "stream",
     "text": [
      "  0%|          | 0/1 [00:00<?, ?it/s]"
     ]
    },
    {
     "name": "stdout",
     "output_type": "stream",
     "text": [
      "tensor([[1., 1.]], device='cuda:0') tensor([1], device='cuda:0')\n"
     ]
    },
    {
     "name": "stderr",
     "output_type": "stream",
     "text": [
      "100%|██████████| 1/1 [00:00<00:00, 269.64it/s]\n"
     ]
    },
    {
     "name": "stdout",
     "output_type": "stream",
     "text": [
      "Preds: tensor([[True]], device='cuda:0'), Labels: tensor([1], device='cuda:0')\n"
     ]
    },
    {
     "name": "stderr",
     "output_type": "stream",
     "text": [
      "  0%|          | 0/1 [00:00<?, ?it/s]"
     ]
    },
    {
     "name": "stdout",
     "output_type": "stream",
     "text": [
      "tensor([[1., 1.]], device='cuda:0') tensor([1], device='cuda:0')\n"
     ]
    },
    {
     "name": "stderr",
     "output_type": "stream",
     "text": [
      "100%|██████████| 1/1 [00:00<00:00, 253.49it/s]\n"
     ]
    },
    {
     "name": "stdout",
     "output_type": "stream",
     "text": [
      "Preds: tensor([[True]], device='cuda:0'), Labels: tensor([1], device='cuda:0')\n"
     ]
    },
    {
     "name": "stderr",
     "output_type": "stream",
     "text": [
      "  0%|          | 0/1 [00:00<?, ?it/s]"
     ]
    },
    {
     "name": "stdout",
     "output_type": "stream",
     "text": [
      "tensor([[1., 1.]], device='cuda:0') tensor([1], device='cuda:0')\n"
     ]
    },
    {
     "name": "stderr",
     "output_type": "stream",
     "text": [
      "100%|██████████| 1/1 [00:00<00:00, 248.49it/s]\n"
     ]
    },
    {
     "name": "stdout",
     "output_type": "stream",
     "text": [
      "Preds: tensor([[True]], device='cuda:0'), Labels: tensor([1], device='cuda:0')\n"
     ]
    },
    {
     "name": "stderr",
     "output_type": "stream",
     "text": [
      "  0%|          | 0/1 [00:00<?, ?it/s]"
     ]
    },
    {
     "name": "stdout",
     "output_type": "stream",
     "text": [
      "tensor([[1., 1.]], device='cuda:0') tensor([1], device='cuda:0')\n"
     ]
    },
    {
     "name": "stderr",
     "output_type": "stream",
     "text": [
      "100%|██████████| 1/1 [00:00<00:00, 250.93it/s]\n"
     ]
    },
    {
     "name": "stdout",
     "output_type": "stream",
     "text": [
      "Preds: tensor([[True]], device='cuda:0'), Labels: tensor([1], device='cuda:0')\n"
     ]
    },
    {
     "name": "stderr",
     "output_type": "stream",
     "text": [
      "  0%|          | 0/1 [00:00<?, ?it/s]"
     ]
    },
    {
     "name": "stdout",
     "output_type": "stream",
     "text": [
      "tensor([[1., 1.]], device='cuda:0') tensor([1], device='cuda:0')\n"
     ]
    },
    {
     "name": "stderr",
     "output_type": "stream",
     "text": [
      "100%|██████████| 1/1 [00:00<00:00, 254.08it/s]\n"
     ]
    },
    {
     "name": "stdout",
     "output_type": "stream",
     "text": [
      "Preds: tensor([[True]], device='cuda:0'), Labels: tensor([1], device='cuda:0')\n"
     ]
    },
    {
     "name": "stderr",
     "output_type": "stream",
     "text": [
      "100%|██████████| 1/1 [00:00<00:00, 265.78it/s]"
     ]
    },
    {
     "name": "stdout",
     "output_type": "stream",
     "text": [
      "tensor([[1., 1.]], device='cuda:0') tensor([1], device='cuda:0')\n",
      "Preds: tensor([[True]], device='cuda:0'), Labels: tensor([1], device='cuda:0')\n"
     ]
    },
    {
     "name": "stderr",
     "output_type": "stream",
     "text": [
      "\n",
      "100%|██████████| 1/1 [00:00<00:00, 278.23it/s]\n"
     ]
    },
    {
     "name": "stdout",
     "output_type": "stream",
     "text": [
      "tensor([[1., 1.]], device='cuda:0') tensor([1], device='cuda:0')\n",
      "Preds: tensor([[True]], device='cuda:0'), Labels: tensor([1], device='cuda:0')\n",
      "(-1.0, -1.0): Trainer 1\n",
      "tensor([[1., 1.]], device='cuda:0') tensor([1], device='cuda:0')\n",
      "Preds: tensor([[False]], device='cuda:0'), Labels: tensor([1], device='cuda:0')\n"
     ]
    },
    {
     "name": "stderr",
     "output_type": "stream",
     "text": [
      "100%|██████████| 1/1 [00:00<00:00, 266.47it/s]"
     ]
    },
    {
     "name": "stdout",
     "output_type": "stream",
     "text": [
      "tensor([[1., 1.]], device='cuda:0') tensor([1], device='cuda:0')\n",
      "Preds: tensor([[False]], device='cuda:0'), Labels: tensor([1], device='cuda:0')\n"
     ]
    },
    {
     "name": "stderr",
     "output_type": "stream",
     "text": [
      "\n",
      "100%|██████████| 1/1 [00:00<00:00, 278.91it/s]\n"
     ]
    },
    {
     "name": "stdout",
     "output_type": "stream",
     "text": [
      "tensor([[1., 1.]], device='cuda:0') tensor([1], device='cuda:0')\n",
      "Preds: tensor([[False]], device='cuda:0'), Labels: tensor([1], device='cuda:0')\n"
     ]
    },
    {
     "name": "stderr",
     "output_type": "stream",
     "text": [
      "  0%|          | 0/1 [00:00<?, ?it/s]"
     ]
    },
    {
     "name": "stdout",
     "output_type": "stream",
     "text": [
      "tensor([[1., 1.]], device='cuda:0') "
     ]
    },
    {
     "name": "stderr",
     "output_type": "stream",
     "text": [
      "100%|██████████| 1/1 [00:00<00:00, 244.38it/s]\n"
     ]
    },
    {
     "name": "stdout",
     "output_type": "stream",
     "text": [
      "tensor([1], device='cuda:0')\n",
      "Preds: tensor([[False]], device='cuda:0'), Labels: tensor([1], device='cuda:0')\n"
     ]
    },
    {
     "name": "stderr",
     "output_type": "stream",
     "text": [
      "  0%|          | 0/1 [00:00<?, ?it/s]"
     ]
    },
    {
     "name": "stdout",
     "output_type": "stream",
     "text": [
      "tensor([[1., 1.]], device='cuda:0') tensor([1], device='cuda:0')\n"
     ]
    },
    {
     "name": "stderr",
     "output_type": "stream",
     "text": [
      "100%|██████████| 1/1 [00:00<00:00, 251.44it/s]\n"
     ]
    },
    {
     "name": "stdout",
     "output_type": "stream",
     "text": [
      "Preds: tensor([[False]], device='cuda:0'), Labels: tensor([1], device='cuda:0')\n"
     ]
    },
    {
     "name": "stderr",
     "output_type": "stream",
     "text": [
      "100%|██████████| 1/1 [00:00<00:00, 273.92it/s]"
     ]
    },
    {
     "name": "stdout",
     "output_type": "stream",
     "text": [
      "tensor([[1., 1.]], device='cuda:0') tensor([1], device='cuda:0')\n",
      "Preds: tensor([[False]], device='cuda:0'), Labels: tensor([1], device='cuda:0')\n"
     ]
    },
    {
     "name": "stderr",
     "output_type": "stream",
     "text": [
      "\n",
      "100%|██████████| 1/1 [00:00<00:00, 288.37it/s]\n"
     ]
    },
    {
     "name": "stdout",
     "output_type": "stream",
     "text": [
      "tensor([[1., 1.]], device='cuda:0') tensor([1], device='cuda:0')\n",
      "Preds: tensor([[False]], device='cuda:0'), Labels: tensor([1], device='cuda:0')\n"
     ]
    },
    {
     "name": "stderr",
     "output_type": "stream",
     "text": [
      "100%|██████████| 1/1 [00:00<00:00, 280.89it/s]\n"
     ]
    },
    {
     "name": "stdout",
     "output_type": "stream",
     "text": [
      "tensor([[1., 1.]], device='cuda:0') tensor([1], device='cuda:0')\n",
      "Preds: tensor([[False]], device='cuda:0'), Labels: tensor([1], device='cuda:0')\n"
     ]
    },
    {
     "name": "stderr",
     "output_type": "stream",
     "text": [
      "100%|██████████| 1/1 [00:00<00:00, 275.20it/s]\n"
     ]
    },
    {
     "name": "stdout",
     "output_type": "stream",
     "text": [
      "tensor([[1., 1.]], device='cuda:0') tensor([1], device='cuda:0')\n",
      "Preds: tensor([[False]], device='cuda:0'), Labels: tensor([1], device='cuda:0')\n"
     ]
    },
    {
     "name": "stderr",
     "output_type": "stream",
     "text": [
      "100%|██████████| 1/1 [00:00<00:00, 277.20it/s]\n"
     ]
    },
    {
     "name": "stdout",
     "output_type": "stream",
     "text": [
      "tensor([[1., 1.]], device='cuda:0') tensor([1], device='cuda:0')\n",
      "Preds: tensor([[False]], device='cuda:0'), Labels: tensor([1], device='cuda:0')\n"
     ]
    },
    {
     "name": "stderr",
     "output_type": "stream",
     "text": [
      "  0%|          | 0/1 [00:00<?, ?it/s]"
     ]
    },
    {
     "name": "stdout",
     "output_type": "stream",
     "text": [
      "tensor([[1., 1.]], device='cuda:0') tensor([1], device='cuda:0')\n"
     ]
    },
    {
     "name": "stderr",
     "output_type": "stream",
     "text": [
      "100%|██████████| 1/1 [00:00<00:00, 224.52it/s]\n"
     ]
    },
    {
     "name": "stdout",
     "output_type": "stream",
     "text": [
      "Preds: tensor([[False]], device='cuda:0'), Labels: tensor([1], device='cuda:0')\n",
      "Reward 1...\n",
      "lfp-epsilon\n",
      "(0.5, 0.5): Trainer 0\n",
      "tensor([[1., 1.]], device='cuda:0') tensor([1], device='cuda:0')\n",
      "Preds: tensor([[True]], device='cuda:0'), Labels: tensor([1], device='cuda:0')\n"
     ]
    },
    {
     "name": "stderr",
     "output_type": "stream",
     "text": [
      "  0%|          | 0/1 [00:00<?, ?it/s]"
     ]
    },
    {
     "name": "stdout",
     "output_type": "stream",
     "text": [
      "tensor([[1., 1.]], device='cuda:0') "
     ]
    },
    {
     "name": "stderr",
     "output_type": "stream",
     "text": [
      "100%|██████████| 1/1 [00:00<00:00, 175.37it/s]\n"
     ]
    },
    {
     "name": "stdout",
     "output_type": "stream",
     "text": [
      "tensor([1], device='cuda:0')\n",
      "Preds: tensor([[True]], device='cuda:0'), Labels: tensor([1], device='cuda:0')\n"
     ]
    },
    {
     "name": "stderr",
     "output_type": "stream",
     "text": [
      "  0%|          | 0/1 [00:00<?, ?it/s]"
     ]
    },
    {
     "name": "stdout",
     "output_type": "stream",
     "text": [
      "tensor([[1., 1.]], device='cuda:0') tensor([1], device='cuda:0')\n"
     ]
    },
    {
     "name": "stderr",
     "output_type": "stream",
     "text": [
      "100%|██████████| 1/1 [00:00<00:00, 185.51it/s]\n"
     ]
    },
    {
     "name": "stdout",
     "output_type": "stream",
     "text": [
      "Preds: tensor([[True]], device='cuda:0'), Labels: tensor([1], device='cuda:0')\n"
     ]
    },
    {
     "name": "stderr",
     "output_type": "stream",
     "text": [
      "100%|██████████| 1/1 [00:00<00:00, 163.09it/s]\n"
     ]
    },
    {
     "name": "stdout",
     "output_type": "stream",
     "text": [
      "tensor([[1., 1.]], device='cuda:0') tensor([1], device='cuda:0')\n",
      "Preds: tensor([[False]], device='cuda:0'), Labels: tensor([1], device='cuda:0')\n"
     ]
    },
    {
     "name": "stderr",
     "output_type": "stream",
     "text": [
      "100%|██████████| 1/1 [00:00<00:00, 179.01it/s]"
     ]
    },
    {
     "name": "stdout",
     "output_type": "stream",
     "text": [
      "tensor([[1., 1.]], device='cuda:0') tensor([1], device='cuda:0')\n",
      "Preds: tensor([[False]], device='cuda:0'), Labels: tensor([1], device='cuda:0')\n"
     ]
    },
    {
     "name": "stderr",
     "output_type": "stream",
     "text": [
      "\n",
      "100%|██████████| 1/1 [00:00<00:00, 182.49it/s]"
     ]
    },
    {
     "name": "stdout",
     "output_type": "stream",
     "text": [
      "tensor([[1., 1.]], device='cuda:0') tensor([1], device='cuda:0')\n",
      "Preds: tensor([[False]], device='cuda:0'), Labels: tensor([1], device='cuda:0')\n"
     ]
    },
    {
     "name": "stderr",
     "output_type": "stream",
     "text": [
      "\n",
      "  0%|          | 0/1 [00:00<?, ?it/s]"
     ]
    },
    {
     "name": "stdout",
     "output_type": "stream",
     "text": [
      "tensor([[1., 1.]], device='cuda:0') tensor([1], device='cuda:0')\n"
     ]
    },
    {
     "name": "stderr",
     "output_type": "stream",
     "text": [
      "100%|██████████| 1/1 [00:00<00:00, 188.74it/s]"
     ]
    },
    {
     "name": "stdout",
     "output_type": "stream",
     "text": [
      "Preds: tensor([[False]], device='cuda:0'), Labels: tensor([1], device='cuda:0')\n"
     ]
    },
    {
     "name": "stderr",
     "output_type": "stream",
     "text": [
      "\n",
      "  0%|          | 0/1 [00:00<?, ?it/s]"
     ]
    },
    {
     "name": "stdout",
     "output_type": "stream",
     "text": [
      "tensor([[1., 1.]], device='cuda:0') tensor([1], device='cuda:0')\n"
     ]
    },
    {
     "name": "stderr",
     "output_type": "stream",
     "text": [
      "100%|██████████| 1/1 [00:00<00:00, 177.29it/s]\n"
     ]
    },
    {
     "name": "stdout",
     "output_type": "stream",
     "text": [
      "Preds: tensor([[False]], device='cuda:0'), Labels: tensor([1], device='cuda:0')\n"
     ]
    },
    {
     "name": "stderr",
     "output_type": "stream",
     "text": [
      "  0%|          | 0/1 [00:00<?, ?it/s]"
     ]
    },
    {
     "name": "stdout",
     "output_type": "stream",
     "text": [
      "tensor([[1., 1.]], device='cuda:0')"
     ]
    },
    {
     "name": "stderr",
     "output_type": "stream",
     "text": [
      "100%|██████████| 1/1 [00:00<00:00, 174.12it/s]"
     ]
    },
    {
     "name": "stdout",
     "output_type": "stream",
     "text": [
      " tensor([1], device='cuda:0')\n",
      "Preds: tensor([[False]], device='cuda:0'), Labels: tensor([1], device='cuda:0')\n"
     ]
    },
    {
     "name": "stderr",
     "output_type": "stream",
     "text": [
      "\n",
      "  0%|          | 0/1 [00:00<?, ?it/s]"
     ]
    },
    {
     "name": "stdout",
     "output_type": "stream",
     "text": [
      "tensor([[1., 1.]], device='cuda:0') tensor([1], device='cuda:0')\n"
     ]
    },
    {
     "name": "stderr",
     "output_type": "stream",
     "text": [
      "100%|██████████| 1/1 [00:00<00:00, 170.85it/s]"
     ]
    },
    {
     "name": "stdout",
     "output_type": "stream",
     "text": [
      "Preds: tensor([[False]], device='cuda:0'), Labels: tensor([1], device='cuda:0')\n"
     ]
    },
    {
     "name": "stderr",
     "output_type": "stream",
     "text": [
      "\n",
      "  0%|          | 0/1 [00:00<?, ?it/s]"
     ]
    },
    {
     "name": "stdout",
     "output_type": "stream",
     "text": [
      "tensor([[1., 1.]], device='cuda:0') "
     ]
    },
    {
     "name": "stderr",
     "output_type": "stream",
     "text": [
      "100%|██████████| 1/1 [00:00<00:00, 180.69it/s]\n"
     ]
    },
    {
     "name": "stdout",
     "output_type": "stream",
     "text": [
      "tensor([1], device='cuda:0')\n",
      "Preds: tensor([[False]], device='cuda:0'), Labels: tensor([1], device='cuda:0')\n",
      "(-1.0, -1.0): Trainer 1\n",
      "tensor([[1., 1.]], device='cuda:0') tensor([1], device='cuda:0')\n",
      "Preds: tensor([[False]], device='cuda:0'), Labels: tensor([1], device='cuda:0')\n"
     ]
    },
    {
     "name": "stderr",
     "output_type": "stream",
     "text": [
      "  0%|          | 0/1 [00:00<?, ?it/s]"
     ]
    },
    {
     "name": "stdout",
     "output_type": "stream",
     "text": [
      "tensor([[1., 1.]], device='cuda:0') tensor([1], device='cuda:0')\n"
     ]
    },
    {
     "name": "stderr",
     "output_type": "stream",
     "text": [
      "100%|██████████| 1/1 [00:00<00:00, 186.37it/s]"
     ]
    },
    {
     "name": "stdout",
     "output_type": "stream",
     "text": [
      "Preds: tensor([[False]], device='cuda:0'), Labels: tensor([1], device='cuda:0')\n"
     ]
    },
    {
     "name": "stderr",
     "output_type": "stream",
     "text": [
      "\n",
      "100%|██████████| 1/1 [00:00<00:00, 197.36it/s]"
     ]
    },
    {
     "name": "stdout",
     "output_type": "stream",
     "text": [
      "tensor([[1., 1.]], device='cuda:0') tensor([1], device='cuda:0')\n",
      "Preds: tensor([[False]], device='cuda:0'), Labels: tensor([1], device='cuda:0')\n"
     ]
    },
    {
     "name": "stderr",
     "output_type": "stream",
     "text": [
      "\n",
      "  0%|          | 0/1 [00:00<?, ?it/s]"
     ]
    },
    {
     "name": "stdout",
     "output_type": "stream",
     "text": [
      "tensor([[1., 1.]], device='cuda:0') tensor([1], device='cuda:0')\n"
     ]
    },
    {
     "name": "stderr",
     "output_type": "stream",
     "text": [
      "100%|██████████| 1/1 [00:00<00:00, 183.86it/s]\n"
     ]
    },
    {
     "name": "stdout",
     "output_type": "stream",
     "text": [
      "Preds: tensor([[False]], device='cuda:0'), Labels: tensor([1], device='cuda:0')\n"
     ]
    },
    {
     "name": "stderr",
     "output_type": "stream",
     "text": [
      "  0%|          | 0/1 [00:00<?, ?it/s]"
     ]
    },
    {
     "name": "stdout",
     "output_type": "stream",
     "text": [
      "tensor([[1., 1.]], device='cuda:0') tensor([1], device='cuda:0')\n"
     ]
    },
    {
     "name": "stderr",
     "output_type": "stream",
     "text": [
      "100%|██████████| 1/1 [00:00<00:00, 169.00it/s]\n"
     ]
    },
    {
     "name": "stdout",
     "output_type": "stream",
     "text": [
      "Preds: tensor([[False]], device='cuda:0'), Labels: tensor([1], device='cuda:0')\n"
     ]
    },
    {
     "name": "stderr",
     "output_type": "stream",
     "text": [
      "100%|██████████| 1/1 [00:00<00:00, 204.46it/s]"
     ]
    },
    {
     "name": "stdout",
     "output_type": "stream",
     "text": [
      "tensor([[1., 1.]], device='cuda:0') tensor([1], device='cuda:0')\n",
      "Preds: tensor([[False]], device='cuda:0'), Labels: tensor([1], device='cuda:0')\n"
     ]
    },
    {
     "name": "stderr",
     "output_type": "stream",
     "text": [
      "\n",
      "  0%|          | 0/1 [00:00<?, ?it/s]"
     ]
    },
    {
     "name": "stdout",
     "output_type": "stream",
     "text": [
      "tensor([[1., 1.]], device='cuda:0') tensor([1], device='cuda:0')\n"
     ]
    },
    {
     "name": "stderr",
     "output_type": "stream",
     "text": [
      "100%|██████████| 1/1 [00:00<00:00, 184.80it/s]\n"
     ]
    },
    {
     "name": "stdout",
     "output_type": "stream",
     "text": [
      "Preds: tensor([[False]], device='cuda:0'), Labels: tensor([1], device='cuda:0')\n"
     ]
    },
    {
     "name": "stderr",
     "output_type": "stream",
     "text": [
      "  0%|          | 0/1 [00:00<?, ?it/s]"
     ]
    },
    {
     "name": "stdout",
     "output_type": "stream",
     "text": [
      "tensor([[1., 1.]], device='cuda:0') "
     ]
    },
    {
     "name": "stderr",
     "output_type": "stream",
     "text": [
      "100%|██████████| 1/1 [00:00<00:00, 182.02it/s]\n"
     ]
    },
    {
     "name": "stdout",
     "output_type": "stream",
     "text": [
      "tensor([1], device='cuda:0')\n",
      "Preds: tensor([[False]], device='cuda:0'), Labels: tensor([1], device='cuda:0')\n"
     ]
    },
    {
     "name": "stderr",
     "output_type": "stream",
     "text": [
      "100%|██████████| 1/1 [00:00<00:00, 202.56it/s]\n"
     ]
    },
    {
     "name": "stdout",
     "output_type": "stream",
     "text": [
      "tensor([[1., 1.]], device='cuda:0') tensor([1], device='cuda:0')\n",
      "Preds: tensor([[False]], device='cuda:0'), Labels: tensor([1], device='cuda:0')\n"
     ]
    },
    {
     "name": "stderr",
     "output_type": "stream",
     "text": [
      "100%|██████████| 1/1 [00:00<00:00, 199.75it/s]\n"
     ]
    },
    {
     "name": "stdout",
     "output_type": "stream",
     "text": [
      "tensor([[1., 1.]], device='cuda:0') tensor([1], device='cuda:0')\n",
      "Preds: tensor([[False]], device='cuda:0'), Labels: tensor([1], device='cuda:0')\n"
     ]
    },
    {
     "name": "stderr",
     "output_type": "stream",
     "text": [
      "100%|██████████| 1/1 [00:00<00:00, 199.84it/s]"
     ]
    },
    {
     "name": "stdout",
     "output_type": "stream",
     "text": [
      "tensor([[1., 1.]], device='cuda:0') tensor([1], device='cuda:0')\n",
      "Preds: tensor([[False]], device='cuda:0'), Labels: tensor([1], device='cuda:0')\n",
      "vanilla-gradient\n",
      "(0.5, 0.5): Trainer 0\n",
      "tensor([[1., 1.]], device='cuda:0') "
     ]
    },
    {
     "name": "stderr",
     "output_type": "stream",
     "text": [
      "\n"
     ]
    },
    {
     "name": "stdout",
     "output_type": "stream",
     "text": [
      "tensor([1], device='cuda:0')\n",
      "Preds: tensor([[True]], device='cuda:0'), Labels: tensor([1], device='cuda:0')\n"
     ]
    },
    {
     "name": "stderr",
     "output_type": "stream",
     "text": [
      "  0%|          | 0/1 [00:00<?, ?it/s]"
     ]
    },
    {
     "name": "stdout",
     "output_type": "stream",
     "text": [
      "tensor([[1., 1.]], device='cuda:0') tensor([1], device='cuda:0')\n",
      "Preds: tensor([[True]], device='cuda:0'), Labels: tensor([1], device='cuda:0')\n"
     ]
    },
    {
     "name": "stderr",
     "output_type": "stream",
     "text": [
      "100%|██████████| 1/1 [00:00<00:00, 230.61it/s]\n",
      "100%|██████████| 1/1 [00:00<00:00, 274.26it/s]"
     ]
    },
    {
     "name": "stdout",
     "output_type": "stream",
     "text": [
      "tensor([[1., 1.]], device='cuda:0') tensor([1], device='cuda:0')\n",
      "Preds: tensor([[True]], device='cuda:0'), Labels: tensor([1], device='cuda:0')\n"
     ]
    },
    {
     "name": "stderr",
     "output_type": "stream",
     "text": [
      "\n",
      "  0%|          | 0/1 [00:00<?, ?it/s]"
     ]
    },
    {
     "name": "stdout",
     "output_type": "stream",
     "text": [
      "tensor([[1., 1.]], device='cuda:0') tensor([1], device='cuda:0')\n"
     ]
    },
    {
     "name": "stderr",
     "output_type": "stream",
     "text": [
      "100%|██████████| 1/1 [00:00<00:00, 253.03it/s]\n"
     ]
    },
    {
     "name": "stdout",
     "output_type": "stream",
     "text": [
      "Preds: tensor([[False]], device='cuda:0'), Labels: tensor([1], device='cuda:0')\n"
     ]
    },
    {
     "name": "stderr",
     "output_type": "stream",
     "text": [
      "  0%|          | 0/1 [00:00<?, ?it/s]"
     ]
    },
    {
     "name": "stdout",
     "output_type": "stream",
     "text": [
      "tensor([[1., 1.]], device='cuda:0') "
     ]
    },
    {
     "name": "stderr",
     "output_type": "stream",
     "text": [
      "100%|██████████| 1/1 [00:00<00:00, 259.60it/s]\n"
     ]
    },
    {
     "name": "stdout",
     "output_type": "stream",
     "text": [
      "tensor([1], device='cuda:0')\n",
      "Preds: tensor([[False]], device='cuda:0'), Labels: tensor([1], device='cuda:0')\n"
     ]
    },
    {
     "name": "stderr",
     "output_type": "stream",
     "text": [
      "100%|██████████| 1/1 [00:00<00:00, 271.95it/s]"
     ]
    },
    {
     "name": "stdout",
     "output_type": "stream",
     "text": [
      "tensor([[1., 1.]], device='cuda:0') tensor([1], device='cuda:0')\n",
      "Preds: tensor([[False]], device='cuda:0'), Labels: tensor([1], device='cuda:0')\n"
     ]
    },
    {
     "name": "stderr",
     "output_type": "stream",
     "text": [
      "\n",
      "100%|██████████| 1/1 [00:00<00:00, 303.98it/s]\n"
     ]
    },
    {
     "name": "stdout",
     "output_type": "stream",
     "text": [
      "tensor([[1., 1.]], device='cuda:0') tensor([1], device='cuda:0')\n",
      "Preds: tensor([[False]], device='cuda:0'), Labels: tensor([1], device='cuda:0')\n"
     ]
    },
    {
     "name": "stderr",
     "output_type": "stream",
     "text": [
      "100%|██████████| 1/1 [00:00<00:00, 281.99it/s]\n"
     ]
    },
    {
     "name": "stdout",
     "output_type": "stream",
     "text": [
      "tensor([[1., 1.]], device='cuda:0') tensor([1], device='cuda:0')\n",
      "Preds: tensor([[False]], device='cuda:0'), Labels: tensor([1], device='cuda:0')\n"
     ]
    },
    {
     "name": "stderr",
     "output_type": "stream",
     "text": [
      "  0%|          | 0/1 [00:00<?, ?it/s]"
     ]
    },
    {
     "name": "stdout",
     "output_type": "stream",
     "text": [
      "tensor([[1., 1.]], device='cuda:0') tensor([1], device='cuda:0')\n",
      "Preds: tensor([[False]], device='cuda:0'), Labels: tensor([1], device='cuda:0')\n"
     ]
    },
    {
     "name": "stderr",
     "output_type": "stream",
     "text": [
      "100%|██████████| 1/1 [00:00<00:00, 262.50it/s]\n",
      "100%|██████████| 1/1 [00:00<00:00, 274.86it/s]"
     ]
    },
    {
     "name": "stdout",
     "output_type": "stream",
     "text": [
      "tensor([[1., 1.]], device='cuda:0') tensor([1], device='cuda:0')\n",
      "Preds: tensor([[False]], device='cuda:0'), Labels: tensor([1], device='cuda:0')\n"
     ]
    },
    {
     "name": "stderr",
     "output_type": "stream",
     "text": [
      "\n",
      "  0%|          | 0/1 [00:00<?, ?it/s]"
     ]
    },
    {
     "name": "stdout",
     "output_type": "stream",
     "text": [
      "tensor([[1., 1.]], device='cuda:0') "
     ]
    },
    {
     "name": "stderr",
     "output_type": "stream",
     "text": [
      "100%|██████████| 1/1 [00:00<00:00, 270.39it/s]\n"
     ]
    },
    {
     "name": "stdout",
     "output_type": "stream",
     "text": [
      "tensor([1], device='cuda:0')\n",
      "Preds: tensor([[False]], device='cuda:0'), Labels: tensor([1], device='cuda:0')\n",
      "(-1.0, -1.0): Trainer 1\n",
      "tensor([[1., 1.]], device='cuda:0') tensor([1], device='cuda:0')\n",
      "Preds: tensor([[False]], device='cuda:0'), Labels: tensor([1], device='cuda:0')\n"
     ]
    },
    {
     "name": "stderr",
     "output_type": "stream",
     "text": [
      "100%|██████████| 1/1 [00:00<00:00, 286.79it/s]\n"
     ]
    },
    {
     "name": "stdout",
     "output_type": "stream",
     "text": [
      "tensor([[1., 1.]], device='cuda:0') tensor([1], device='cuda:0')\n",
      "Preds: tensor([[False]], device='cuda:0'), Labels: tensor([1], device='cuda:0')\n"
     ]
    },
    {
     "name": "stderr",
     "output_type": "stream",
     "text": [
      "100%|██████████| 1/1 [00:00<00:00, 299.91it/s]"
     ]
    },
    {
     "name": "stdout",
     "output_type": "stream",
     "text": [
      "tensor([[1., 1.]], device='cuda:0') tensor([1], device='cuda:0')\n",
      "Preds: tensor([[False]], device='cuda:0'), Labels: tensor([1], device='cuda:0')\n"
     ]
    },
    {
     "name": "stderr",
     "output_type": "stream",
     "text": [
      "\n",
      "  0%|          | 0/1 [00:00<?, ?it/s]"
     ]
    },
    {
     "name": "stdout",
     "output_type": "stream",
     "text": [
      "tensor([[1., 1.]], device='cuda:0') tensor([1], device='cuda:0')\n",
      "Preds: tensor([[False]], device='cuda:0'), Labels: tensor([1], device='cuda:0')\n"
     ]
    },
    {
     "name": "stderr",
     "output_type": "stream",
     "text": [
      "100%|██████████| 1/1 [00:00<00:00, 260.81it/s]\n",
      "100%|██████████| 1/1 [00:00<00:00, 280.18it/s]"
     ]
    },
    {
     "name": "stdout",
     "output_type": "stream",
     "text": [
      "tensor([[1., 1.]], device='cuda:0') tensor([1], device='cuda:0')\n",
      "Preds: tensor([[False]], device='cuda:0'), Labels: tensor([1], device='cuda:0')\n"
     ]
    },
    {
     "name": "stderr",
     "output_type": "stream",
     "text": [
      "\n",
      "100%|██████████| 1/1 [00:00<00:00, 275.81it/s]"
     ]
    },
    {
     "name": "stdout",
     "output_type": "stream",
     "text": [
      "tensor([[1., 1.]], device='cuda:0') tensor([1], device='cuda:0')\n",
      "Preds: tensor([[False]], device='cuda:0'), Labels: tensor([1], device='cuda:0')\n"
     ]
    },
    {
     "name": "stderr",
     "output_type": "stream",
     "text": [
      "\n",
      "  0%|          | 0/1 [00:00<?, ?it/s]"
     ]
    },
    {
     "name": "stdout",
     "output_type": "stream",
     "text": [
      "tensor([[1., 1.]], device='cuda:0') tensor([1], device='cuda:0')\n"
     ]
    },
    {
     "name": "stderr",
     "output_type": "stream",
     "text": [
      "100%|██████████| 1/1 [00:00<00:00, 273.00it/s]\n"
     ]
    },
    {
     "name": "stdout",
     "output_type": "stream",
     "text": [
      "Preds: tensor([[False]], device='cuda:0'), Labels: tensor([1], device='cuda:0')\n"
     ]
    },
    {
     "name": "stderr",
     "output_type": "stream",
     "text": [
      "100%|██████████| 1/1 [00:00<00:00, 298.93it/s]"
     ]
    },
    {
     "name": "stdout",
     "output_type": "stream",
     "text": [
      "tensor([[1., 1.]], device='cuda:0') tensor([1], device='cuda:0')\n",
      "Preds: tensor([[False]], device='cuda:0'), Labels: tensor([1], device='cuda:0')\n"
     ]
    },
    {
     "name": "stderr",
     "output_type": "stream",
     "text": [
      "\n",
      "  0%|          | 0/1 [00:00<?, ?it/s]"
     ]
    },
    {
     "name": "stdout",
     "output_type": "stream",
     "text": [
      "tensor([[1., 1.]], device='cuda:0') tensor([1], device='cuda:0')\n"
     ]
    },
    {
     "name": "stderr",
     "output_type": "stream",
     "text": [
      "100%|██████████| 1/1 [00:00<00:00, 218.81it/s]\n"
     ]
    },
    {
     "name": "stdout",
     "output_type": "stream",
     "text": [
      "Preds: tensor([[False]], device='cuda:0'), Labels: tensor([1], device='cuda:0')\n"
     ]
    },
    {
     "name": "stderr",
     "output_type": "stream",
     "text": [
      "  0%|          | 0/1 [00:00<?, ?it/s]"
     ]
    },
    {
     "name": "stdout",
     "output_type": "stream",
     "text": [
      "tensor([[1., 1.]], device='cuda:0')"
     ]
    },
    {
     "name": "stderr",
     "output_type": "stream",
     "text": [
      "100%|██████████| 1/1 [00:00<00:00, 236.82it/s]"
     ]
    },
    {
     "name": "stdout",
     "output_type": "stream",
     "text": [
      " tensor([1], device='cuda:0')\n",
      "Preds: tensor([[False]], device='cuda:0'), Labels: tensor([1], device='cuda:0')\n"
     ]
    },
    {
     "name": "stderr",
     "output_type": "stream",
     "text": [
      "\n",
      "100%|██████████| 1/1 [00:00<00:00, 274.57it/s]\n"
     ]
    },
    {
     "name": "stdout",
     "output_type": "stream",
     "text": [
      "tensor([[1., 1.]], device='cuda:0') tensor([1], device='cuda:0')\n",
      "Preds: tensor([[False]], device='cuda:0'), Labels: tensor([1], device='cuda:0')\n"
     ]
    }
   ],
   "source": [
    "for r, trainers_r in trainers.items():\n",
    "    print(f\"Reward {r}...\")\n",
    "    for name, trainer_list in trainers_r.items():\n",
    "\n",
    "        print(name)\n",
    "\n",
    "        for t, trainer in enumerate(trainer_list):\n",
    "            print(f\"{weight_initializations[t]}: Trainer {t}\")\n",
    "            ckpt_path = os.path.join(savepath, f\"ckpts-lr-{lr}\")\n",
    "            os.makedirs(ckpt_path, exist_ok=True)\n",
    "            savename = f\"{name}-model-{t}\"\n",
    "            saveappendage = \"last\"\n",
    "            if retrain_models or not os.path.exists(\n",
    "                os.path.join(ckpt_path, f\"{savename}-{saveappendage}.pt\")\n",
    "            ):\n",
    "                trainer.train(\n",
    "                    epochs=epochs,\n",
    "                    verbose=True,\n",
    "                    savepath=ckpt_path,\n",
    "                    savename=savename,\n",
    "                    saveappendage=saveappendage,\n",
    "                    fromscratch=True,\n",
    "                )\n",
    "            else:\n",
    "                trainer.load(\n",
    "                    savepath=ckpt_path, savename=savename, saveappendage=saveappendage\n",
    "                )"
   ]
  },
  {
   "cell_type": "code",
   "execution_count": 8,
   "metadata": {},
   "outputs": [],
   "source": [
    "# Plot Settings\n",
    "# Set font properties.\n",
    "import matplotlib.font_manager as font_manager\n",
    "import matplotlib.cm as cm\n",
    "\n",
    "font_path = plt.matplotlib.get_data_path() + \"/fonts/ttf/cmr10.ttf\"\n",
    "cmfont = font_manager.FontProperties(fname=font_path)\n",
    "plt.rcParams[\"font.family\"] = \"serif\"\n",
    "plt.rcParams[\"font.serif\"] = cmfont.get_name()\n",
    "plt.rcParams[\"mathtext.fontset\"] = \"cm\"\n",
    "\n",
    "# Set font size.\n",
    "plt.rcParams[\"font.size\"] = 15\n",
    "\n",
    "# Disable unicode minus.\n",
    "plt.rcParams[\"axes.unicode_minus\"] = False\n",
    "\n",
    "# Use mathtext for axes formatters.\n",
    "plt.rcParams[\"axes.formatter.use_mathtext\"] = True\n",
    "\n",
    "plt.rcParams[\"axes.linewidth\"] = 1.5"
   ]
  },
  {
   "cell_type": "markdown",
   "metadata": {},
   "source": [
    "### Plot Progression of Activations"
   ]
  },
  {
   "cell_type": "code",
   "execution_count": 13,
   "metadata": {},
   "outputs": [
    {
     "name": "stdout",
     "output_type": "stream",
     "text": [
      "lfp-epsilon maximizesingleneuronreward\n"
     ]
    },
    {
     "name": "stderr",
     "output_type": "stream",
     "text": [
      "/tmp/ipykernel_636793/2070531345.py:33: MatplotlibDeprecationWarning: The get_cmap function was deprecated in Matplotlib 3.7 and will be removed two minor releases later. Use ``matplotlib.colormaps[name]`` or ``matplotlib.colormaps.get_cmap(obj)`` instead.\n",
      "  cmap = cm.get_cmap(\"Reds\", 256)\n"
     ]
    },
    {
     "data": {
      "image/png": "[encoded data removed]",
      "text/plain": [
       "<Figure size 600x400 with 2 Axes>"
      ]
     },
     "metadata": {},
     "output_type": "display_data"
    },
    {
     "name": "stdout",
     "output_type": "stream",
     "text": [
      "vanilla-gradient maximizesingleneuronloss\n"
     ]
    },
    {
     "data": {
      "image/png": "[encoded data removed]",
      "text/plain": [
       "<Figure size 600x400 with 2 Axes>"
      ]
     },
     "metadata": {},
     "output_type": "display_data"
    },
    {
     "name": "stdout",
     "output_type": "stream",
     "text": [
      "lfp-epsilon minimizesingleneuronreward\n"
     ]
    },
    {
     "data": {
      "image/png": "[encoded data removed]",
      "text/plain": [
       "<Figure size 600x400 with 2 Axes>"
      ]
     },
     "metadata": {},
     "output_type": "display_data"
    },
    {
     "name": "stdout",
     "output_type": "stream",
     "text": [
      "vanilla-gradient minimizesingleneuronloss\n"
     ]
    },
    {
     "data": {
      "image/png": "[encoded data removed]",
      "text/plain": [
       "<Figure size 600x400 with 2 Axes>"
      ]
     },
     "metadata": {},
     "output_type": "display_data"
    }
   ],
   "source": [
    "from matplotlib.colors import ListedColormap\n",
    "from matplotlib.collections import LineCollection\n",
    "\n",
    "\n",
    "def plot_activations_over_epochs(\n",
    "    pre_act_output_logs, post_act_output_logs, fname, criterion, colormap=\"Set1\"\n",
    "):\n",
    "    fig, axes = plt.subplots(\n",
    "        2, 1, figsize=(6, 4), sharex=True, height_ratios=[0.8, 0.2]\n",
    "    )\n",
    "    fig.subplots_adjust(hspace=0.05)\n",
    "\n",
    "    xpoints = torch.arange(-10, 5, 0.001)\n",
    "    ypoints = torch.nn.SiLU()(xpoints.to(device))\n",
    "    axes[0].plot(\n",
    "        xpoints.detach().cpu().numpy(),\n",
    "        ypoints.detach().cpu().numpy(),\n",
    "        linewidth=2.5,\n",
    "        alpha=1,\n",
    "        label=\"Activation\",\n",
    "    )\n",
    "\n",
    "    crit = rewards.get_reward(criterion, device)\n",
    "    cpoints = crit(ypoints, torch.ones_like(ypoints))\n",
    "    axes[0].plot(\n",
    "        xpoints.detach().cpu().numpy(),\n",
    "        cpoints.detach().cpu().numpy(),\n",
    "        linewidth=2.5,\n",
    "        alpha=1,\n",
    "        label=\"Criterion\",\n",
    "    )\n",
    "\n",
    "    axes[0].hlines(\n",
    "        [0], xmin=-100, xmax=100, color=(0.5, 0.5, 0.5, 1), linewidth=1.5, zorder=0\n",
    "    )\n",
    "    ylim = axes[0].get_ylim()\n",
    "    ylim = (ylim[0] - 0.1, ylim[1] + 0.5)\n",
    "\n",
    "    if \"min\" in criterion:\n",
    "        axes[0].vlines(\n",
    "            [xpoints[ypoints.argmin().detach().cpu().numpy()]],\n",
    "            ymin=ylim[0],\n",
    "            ymax=ylim[1],\n",
    "            color=\"forestgreen\",\n",
    "            linewidth=1.5,\n",
    "            zorder=0,\n",
    "        )\n",
    "        axes[0].text(\n",
    "            xpoints[ypoints.argmin().detach().cpu().numpy()],\n",
    "            ylim[1] - 0.25,\n",
    "            \"Minimum\",\n",
    "            horizontalalignment=\"left\",\n",
    "            verticalalignment=\"top\",\n",
    "            fontsize=11.5,\n",
    "            color=\"forestgreen\",\n",
    "        )\n",
    "    else:\n",
    "        axes[0].arrow(\n",
    "            4.5,\n",
    "            ylim[1] - 0.25,\n",
    "            0.4,\n",
    "            0.0,\n",
    "            color=\"forestgreen\",\n",
    "            width=0.1,\n",
    "            head_width=0.3,\n",
    "            head_length=0.1,\n",
    "            head_starts_at_zero=True,\n",
    "            length_includes_head=True,\n",
    "            zorder=100,\n",
    "        )\n",
    "        axes[0].text(\n",
    "            4.5,\n",
    "            ylim[1] - 0.25,\n",
    "            \"Maximum\",\n",
    "            horizontalalignment=\"right\",\n",
    "            verticalalignment=\"center\",\n",
    "            fontsize=11.5,\n",
    "            color=\"forestgreen\",\n",
    "        )\n",
    "\n",
    "    cmap = cm.get_cmap(\"Reds\", 256)\n",
    "    newcolors = cmap(np.linspace(0.3, 1.0, 256))\n",
    "    pastel = 0.0\n",
    "    newcolors = (1 - pastel) * newcolors + pastel * np.ones((256, 4))\n",
    "    trainer_cm = ListedColormap(newcolors.clip(max=1)[::-1])\n",
    "\n",
    "    for w, (pre_act_output_log, post_act_output_log) in enumerate(\n",
    "        list(zip(pre_act_output_logs, post_act_output_logs))\n",
    "    ):\n",
    "        toplot_idx = np.arange(0, len(pre_act_output_log), 1).astype(int)\n",
    "        sc = axes[1].scatter(\n",
    "            pre_act_output_log,\n",
    "            post_act_output_log,\n",
    "            c=toplot_idx,\n",
    "            marker=\"\",\n",
    "            cmap=trainer_cm,\n",
    "        )\n",
    "\n",
    "        for p, pre_val in enumerate(pre_act_output_log):\n",
    "\n",
    "            if p > 0:\n",
    "                axes[1].arrow(\n",
    "                    pre_act_output_log[p - 1][0],\n",
    "                    p,\n",
    "                    (pre_act_output_log[p][0] - pre_act_output_log[p - 1][0]),\n",
    "                    0.0,\n",
    "                    color=trainer_cm(p / len(pre_act_output_log)),\n",
    "                    width=0.25,\n",
    "                    head_width=1.1,\n",
    "                    head_length=0.1,\n",
    "                    head_starts_at_zero=True,\n",
    "                    length_includes_head=True,\n",
    "                    zorder=100 - p,\n",
    "                )\n",
    "            else:\n",
    "                axes[1].scatter(\n",
    "                    pre_act_output_log[p], p + 1, c=1, marker=\"d\", cmap=trainer_cm\n",
    "                )\n",
    "                if pre_act_output_log[p + 1] <= pre_act_output_log[p]:\n",
    "                    axes[1].text(\n",
    "                        pre_act_output_log[p] + 0.1,\n",
    "                        p + 1 + 0.1,\n",
    "                        f\"W{w+1}\",\n",
    "                        horizontalalignment=\"left\",\n",
    "                        verticalalignment=\"bottom\",\n",
    "                        fontsize=11.5,\n",
    "                        color=trainer_cm(1 / len(pre_act_output_log)),\n",
    "                    )\n",
    "                else:\n",
    "                    axes[1].text(\n",
    "                        pre_act_output_log[p] - 0.1,\n",
    "                        p + 1 + 0.1,\n",
    "                        f\"W{w+1}\",\n",
    "                        horizontalalignment=\"right\",\n",
    "                        verticalalignment=\"bottom\",\n",
    "                        fontsize=11.5,\n",
    "                        color=trainer_cm(1 / len(pre_act_output_log)),\n",
    "                    )\n",
    "\n",
    "    # cbar = plt.colorbar(sc)\n",
    "    # cbar.set_label('Iteration')\n",
    "\n",
    "    axes[0].set_ylim(ylim)\n",
    "    axes[0].set_ylabel(f\"Output\")\n",
    "    axes[1].xaxis.tick_bottom()\n",
    "    axes[1].set_ylabel(f\"Iteration\")\n",
    "    axes[1].set_xlabel(\"Pre-Activation Output\")\n",
    "    # ax.set_ylim([0.3, 1.01])\n",
    "    # ax.set_yticks([0.4, 0.6, 0.8, 1.0])\n",
    "    # ax.set_yticklabels([40, 60, 80, 100])\n",
    "    axes[1].tick_params(length=6, width=2)\n",
    "    axes[1].set_xticks([-10, -5, 0, 5])\n",
    "    axes[1].set_xlim([-10, 5])\n",
    "\n",
    "    axes[0].tick_params(axis=\"x\", length=0, width=0)\n",
    "    axes[0].legend()\n",
    "    plt.show()\n",
    "    fig.savefig(fname)\n",
    "\n",
    "\n",
    "for r, reward_name in enumerate(reward_names):\n",
    "    for name in propagation_composites.keys():\n",
    "        criterion = reward_name if name != \"vanilla-gradient\" else loss_names[r]\n",
    "        print(name, criterion)\n",
    "        plot_activations_over_epochs(\n",
    "            [tr.pre_act_output_log for tr in trainers[r][name]],\n",
    "            [tr.post_act_output_log for tr in trainers[r][name]],\n",
    "            fname=os.path.join(savepath, f\"activations-crit-{criterion}-{name}.svg\"),\n",
    "            criterion=criterion,\n",
    "        )"
   ]
  }
 ],
 "metadata": {
  "kernelspec": {
   "display_name": "lxtenv",
   "language": "python",
   "name": "python3"
  },
  "language_info": {
   "codemirror_mode": {
    "name": "ipython",
    "version": 3
   },
   "file_extension": ".py",
   "mimetype": "text/x-python",
   "name": "python",
   "nbconvert_exporter": "python",
   "pygments_lexer": "ipython3",
   "version": "3.11.0"
  }
 },
 "nbformat": 4,
 "nbformat_minor": 2
}
